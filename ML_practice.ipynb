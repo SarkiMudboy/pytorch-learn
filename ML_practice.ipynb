{
  "nbformat": 4,
  "nbformat_minor": 0,
  "metadata": {
    "colab": {
      "provenance": [],
      "authorship_tag": "ABX9TyOrJ9lpDZv738lruP0hJSDa",
      "include_colab_link": true
    },
    "kernelspec": {
      "name": "python3",
      "display_name": "Python 3"
    },
    "language_info": {
      "name": "python"
    }
  },
  "cells": [
    {
      "cell_type": "markdown",
      "metadata": {
        "id": "view-in-github",
        "colab_type": "text"
      },
      "source": [
        "<a href=\"https://colab.research.google.com/github/SarkiMudboy/pytorch-learn/blob/main/ML_practice.ipynb\" target=\"_parent\"><img src=\"https://colab.research.google.com/assets/colab-badge.svg\" alt=\"Open In Colab\"/></a>"
      ]
    },
    {
      "cell_type": "code",
      "source": [
        "import torch"
      ],
      "metadata": {
        "id": "V44y4BlZFE_n"
      },
      "execution_count": null,
      "outputs": []
    },
    {
      "cell_type": "code",
      "source": [
        "print(torch.__version__)"
      ],
      "metadata": {
        "id": "yueMF7NCFWlc",
        "colab": {
          "base_uri": "https://localhost:8080/"
        },
        "outputId": "f071bb22-be9a-4bbc-f40d-184f1eaeb855"
      },
      "execution_count": null,
      "outputs": [
        {
          "output_type": "stream",
          "name": "stdout",
          "text": [
            "2.0.1+cu118\n"
          ]
        }
      ]
    },
    {
      "cell_type": "code",
      "source": [
        "scalar = torch.tensor(7)"
      ],
      "metadata": {
        "id": "JbdfmfuKWgeZ"
      },
      "execution_count": null,
      "outputs": []
    },
    {
      "cell_type": "code",
      "source": [
        "scalar"
      ],
      "metadata": {
        "colab": {
          "base_uri": "https://localhost:8080/"
        },
        "id": "s34jx1dNetWV",
        "outputId": "12f8ffc8-e90b-4cd0-a0b5-54b610ca2d4c"
      },
      "execution_count": null,
      "outputs": [
        {
          "output_type": "execute_result",
          "data": {
            "text/plain": [
              "tensor(7)"
            ]
          },
          "metadata": {},
          "execution_count": 4
        }
      ]
    },
    {
      "cell_type": "code",
      "source": [
        "scalar.ndim\n",
        "scalar.shape"
      ],
      "metadata": {
        "colab": {
          "base_uri": "https://localhost:8080/"
        },
        "id": "D9rMpyNBe5FG",
        "outputId": "ec3fd7be-7dbd-47b3-be80-a1baaef93743"
      },
      "execution_count": null,
      "outputs": [
        {
          "output_type": "execute_result",
          "data": {
            "text/plain": [
              "torch.Size([])"
            ]
          },
          "metadata": {},
          "execution_count": 5
        }
      ]
    },
    {
      "cell_type": "code",
      "source": [
        "scalar.ndim"
      ],
      "metadata": {
        "colab": {
          "base_uri": "https://localhost:8080/"
        },
        "id": "_jTeDXgoe--z",
        "outputId": "3d70b95a-5654-4c48-d1c5-f6d32ce81ae8"
      },
      "execution_count": null,
      "outputs": [
        {
          "output_type": "execute_result",
          "data": {
            "text/plain": [
              "0"
            ]
          },
          "metadata": {},
          "execution_count": 6
        }
      ]
    },
    {
      "cell_type": "code",
      "source": [
        "scalar.item()"
      ],
      "metadata": {
        "colab": {
          "base_uri": "https://localhost:8080/"
        },
        "id": "gGkCnPGIfDPt",
        "outputId": "e597e9a0-9132-4409-fb34-8f1620bf14db"
      },
      "execution_count": null,
      "outputs": [
        {
          "output_type": "execute_result",
          "data": {
            "text/plain": [
              "7"
            ]
          },
          "metadata": {},
          "execution_count": 7
        }
      ]
    },
    {
      "cell_type": "code",
      "source": [
        "zero = torch.tensor(0)"
      ],
      "metadata": {
        "id": "-rUW994_fUTP"
      },
      "execution_count": null,
      "outputs": []
    },
    {
      "cell_type": "code",
      "source": [
        "zero"
      ],
      "metadata": {
        "colab": {
          "base_uri": "https://localhost:8080/"
        },
        "id": "omVUCMoBfYQ9",
        "outputId": "8cb147e0-e093-4b4d-f153-47080ad5d4a4"
      },
      "execution_count": null,
      "outputs": [
        {
          "output_type": "execute_result",
          "data": {
            "text/plain": [
              "tensor(0)"
            ]
          },
          "metadata": {},
          "execution_count": 9
        }
      ]
    },
    {
      "cell_type": "code",
      "source": [
        "vector = torch.tensor([2, 4])\n",
        "vector"
      ],
      "metadata": {
        "colab": {
          "base_uri": "https://localhost:8080/"
        },
        "id": "qX_vld1AfZZ6",
        "outputId": "8f0fe773-32dd-47d1-cea3-c9273dfff3ab"
      },
      "execution_count": null,
      "outputs": [
        {
          "output_type": "execute_result",
          "data": {
            "text/plain": [
              "tensor([2, 4])"
            ]
          },
          "metadata": {},
          "execution_count": 10
        }
      ]
    },
    {
      "cell_type": "code",
      "source": [
        "vector.shape"
      ],
      "metadata": {
        "colab": {
          "base_uri": "https://localhost:8080/"
        },
        "id": "OHWuLF_XfhTE",
        "outputId": "1026d2d7-159d-48f7-eacb-c25c836a91d5"
      },
      "execution_count": null,
      "outputs": [
        {
          "output_type": "execute_result",
          "data": {
            "text/plain": [
              "torch.Size([2])"
            ]
          },
          "metadata": {},
          "execution_count": 11
        }
      ]
    },
    {
      "cell_type": "code",
      "source": [
        "vector.ndim"
      ],
      "metadata": {
        "colab": {
          "base_uri": "https://localhost:8080/"
        },
        "id": "W1k2-b8cflQ1",
        "outputId": "8a82ae89-fff1-42ae-b16a-bf5954995d5a"
      },
      "execution_count": null,
      "outputs": [
        {
          "output_type": "execute_result",
          "data": {
            "text/plain": [
              "1"
            ]
          },
          "metadata": {},
          "execution_count": 12
        }
      ]
    },
    {
      "cell_type": "code",
      "source": [
        "new_vector = torch.tensor([3, 4, 5, 2, 5])\n",
        "new_vector"
      ],
      "metadata": {
        "colab": {
          "base_uri": "https://localhost:8080/"
        },
        "id": "ihot83AEfzVg",
        "outputId": "3e76e156-667b-4b7a-f030-7e6b281a8823"
      },
      "execution_count": null,
      "outputs": [
        {
          "output_type": "execute_result",
          "data": {
            "text/plain": [
              "tensor([3, 4, 5, 2, 5])"
            ]
          },
          "metadata": {},
          "execution_count": 13
        }
      ]
    },
    {
      "cell_type": "code",
      "source": [
        "new_vector.shape"
      ],
      "metadata": {
        "colab": {
          "base_uri": "https://localhost:8080/"
        },
        "id": "EzVq7RzPf9pr",
        "outputId": "22b68de9-62b0-4ff6-984c-ce8010f26c36"
      },
      "execution_count": null,
      "outputs": [
        {
          "output_type": "execute_result",
          "data": {
            "text/plain": [
              "torch.Size([5])"
            ]
          },
          "metadata": {},
          "execution_count": 14
        }
      ]
    },
    {
      "cell_type": "code",
      "source": [],
      "metadata": {
        "id": "7OWEMLcWgA3X"
      },
      "execution_count": null,
      "outputs": []
    },
    {
      "cell_type": "markdown",
      "source": [
        "## Matrix"
      ],
      "metadata": {
        "id": "l25zN-36gPhP"
      }
    },
    {
      "cell_type": "code",
      "source": [
        "M = torch.tensor([[2, 4, 6],\n",
        "                  [1, 3, 5],\n",
        "                  [0, 0, 0]])\n",
        "M"
      ],
      "metadata": {
        "colab": {
          "base_uri": "https://localhost:8080/"
        },
        "id": "O7svy7AdgNaU",
        "outputId": "f2512505-999e-46cb-ef92-172e850feefd"
      },
      "execution_count": null,
      "outputs": [
        {
          "output_type": "execute_result",
          "data": {
            "text/plain": [
              "tensor([[2, 4, 6],\n",
              "        [1, 3, 5],\n",
              "        [0, 0, 0]])"
            ]
          },
          "metadata": {},
          "execution_count": 15
        }
      ]
    },
    {
      "cell_type": "code",
      "source": [
        "M.shape"
      ],
      "metadata": {
        "colab": {
          "base_uri": "https://localhost:8080/"
        },
        "id": "MUh1iBiogly_",
        "outputId": "53648c2e-864f-4a0c-b6c7-4e0dccc97169"
      },
      "execution_count": null,
      "outputs": [
        {
          "output_type": "execute_result",
          "data": {
            "text/plain": [
              "torch.Size([3, 3])"
            ]
          },
          "metadata": {},
          "execution_count": 16
        }
      ]
    },
    {
      "cell_type": "code",
      "source": [
        "M.ndim"
      ],
      "metadata": {
        "colab": {
          "base_uri": "https://localhost:8080/"
        },
        "id": "G5maNOYEgo9P",
        "outputId": "f920c445-322a-40d4-c0fe-d3ccc8474baf"
      },
      "execution_count": null,
      "outputs": [
        {
          "output_type": "execute_result",
          "data": {
            "text/plain": [
              "2"
            ]
          },
          "metadata": {},
          "execution_count": 17
        }
      ]
    },
    {
      "cell_type": "code",
      "source": [
        "M[0]"
      ],
      "metadata": {
        "colab": {
          "base_uri": "https://localhost:8080/"
        },
        "id": "1FhbiyjAgtq3",
        "outputId": "68637a1b-4755-4825-ad4f-c46ad524bee8"
      },
      "execution_count": null,
      "outputs": [
        {
          "output_type": "execute_result",
          "data": {
            "text/plain": [
              "tensor([2, 4, 6])"
            ]
          },
          "metadata": {},
          "execution_count": 18
        }
      ]
    },
    {
      "cell_type": "code",
      "source": [
        "M[1]"
      ],
      "metadata": {
        "colab": {
          "base_uri": "https://localhost:8080/"
        },
        "id": "6EHwWFfbg2Xl",
        "outputId": "722877db-c116-4366-fd1d-7ae19eb44171"
      },
      "execution_count": null,
      "outputs": [
        {
          "output_type": "execute_result",
          "data": {
            "text/plain": [
              "tensor([1, 3, 5])"
            ]
          },
          "metadata": {},
          "execution_count": 19
        }
      ]
    },
    {
      "cell_type": "code",
      "source": [
        "M[2]"
      ],
      "metadata": {
        "colab": {
          "base_uri": "https://localhost:8080/"
        },
        "id": "9uwt7_Yhg4GX",
        "outputId": "e2fc9520-d6fe-4bfe-ad6a-9e777dc93ae8"
      },
      "execution_count": null,
      "outputs": [
        {
          "output_type": "execute_result",
          "data": {
            "text/plain": [
              "tensor([0, 0, 0])"
            ]
          },
          "metadata": {},
          "execution_count": 20
        }
      ]
    },
    {
      "cell_type": "code",
      "source": [
        "new_vector[0]"
      ],
      "metadata": {
        "colab": {
          "base_uri": "https://localhost:8080/"
        },
        "id": "HLFPi9azg5oo",
        "outputId": "2aa760a0-49a8-4904-b1d8-77673ff465df"
      },
      "execution_count": null,
      "outputs": [
        {
          "output_type": "execute_result",
          "data": {
            "text/plain": [
              "tensor(3)"
            ]
          },
          "metadata": {},
          "execution_count": 21
        }
      ]
    },
    {
      "cell_type": "code",
      "source": [
        "TENSOR = torch.tensor([\n",
        "    [\n",
        "        [2, 4, 5],\n",
        "        [3, 6, 8]\n",
        "     ],\n",
        "    [\n",
        "        [2, 3, 6],\n",
        "        [0, 8, 9]\n",
        "     ]\n",
        "    ])\n",
        "TENSOR"
      ],
      "metadata": {
        "colab": {
          "base_uri": "https://localhost:8080/"
        },
        "id": "eMQoAdm9g-Yw",
        "outputId": "98035026-690a-4eb7-a0ba-fe406d581214"
      },
      "execution_count": null,
      "outputs": [
        {
          "output_type": "execute_result",
          "data": {
            "text/plain": [
              "tensor([[[2, 4, 5],\n",
              "         [3, 6, 8]],\n",
              "\n",
              "        [[2, 3, 6],\n",
              "         [0, 8, 9]]])"
            ]
          },
          "metadata": {},
          "execution_count": 22
        }
      ]
    },
    {
      "cell_type": "code",
      "source": [
        "TENSOR.shape"
      ],
      "metadata": {
        "colab": {
          "base_uri": "https://localhost:8080/"
        },
        "id": "IalJLCnAjMBG",
        "outputId": "27b0e3a7-ac65-47bd-988a-022fe799ce83"
      },
      "execution_count": null,
      "outputs": [
        {
          "output_type": "execute_result",
          "data": {
            "text/plain": [
              "torch.Size([2, 2, 3])"
            ]
          },
          "metadata": {},
          "execution_count": 23
        }
      ]
    },
    {
      "cell_type": "code",
      "source": [
        "small = torch.tensor([[3, 4], [3, 2], [9, 8]])"
      ],
      "metadata": {
        "id": "FbYpSBekjQ-Q"
      },
      "execution_count": null,
      "outputs": []
    },
    {
      "cell_type": "code",
      "source": [
        "small"
      ],
      "metadata": {
        "colab": {
          "base_uri": "https://localhost:8080/"
        },
        "id": "F5WT7gOzjrzb",
        "outputId": "19076546-dc51-4fef-9cfc-feed84dccd9b"
      },
      "execution_count": null,
      "outputs": [
        {
          "output_type": "execute_result",
          "data": {
            "text/plain": [
              "tensor([[3, 4],\n",
              "        [3, 2],\n",
              "        [9, 8]])"
            ]
          },
          "metadata": {},
          "execution_count": 25
        }
      ]
    },
    {
      "cell_type": "code",
      "source": [
        "small.shape"
      ],
      "metadata": {
        "colab": {
          "base_uri": "https://localhost:8080/"
        },
        "id": "RKWcIdWdjt5b",
        "outputId": "6d100186-a44c-4171-c877-f8b13d0d5d5a"
      },
      "execution_count": null,
      "outputs": [
        {
          "output_type": "execute_result",
          "data": {
            "text/plain": [
              "torch.Size([3, 2])"
            ]
          },
          "metadata": {},
          "execution_count": 26
        }
      ]
    },
    {
      "cell_type": "code",
      "source": [
        "random = torch.rand(3, 5)\n",
        "random"
      ],
      "metadata": {
        "id": "rtsyX7kZjsre",
        "colab": {
          "base_uri": "https://localhost:8080/"
        },
        "outputId": "cd1dec10-7e06-4382-d310-174d1e33dc2f"
      },
      "execution_count": null,
      "outputs": [
        {
          "output_type": "execute_result",
          "data": {
            "text/plain": [
              "tensor([[0.3400, 0.0068, 0.3967, 0.5681, 0.4793],\n",
              "        [0.0624, 0.8378, 0.3228, 0.0382, 0.4632],\n",
              "        [0.9265, 0.2361, 0.2402, 0.2797, 0.4541]])"
            ]
          },
          "metadata": {},
          "execution_count": 27
        }
      ]
    },
    {
      "cell_type": "code",
      "source": [
        "new_rn = torch.rand(0, 4)"
      ],
      "metadata": {
        "id": "Sb3II10b4KDW"
      },
      "execution_count": null,
      "outputs": []
    },
    {
      "cell_type": "code",
      "source": [
        "new_rn"
      ],
      "metadata": {
        "colab": {
          "base_uri": "https://localhost:8080/"
        },
        "id": "uAiWXDuDA8e1",
        "outputId": "6c24c761-f0d9-48db-b2d5-cf1e06c64531"
      },
      "execution_count": null,
      "outputs": [
        {
          "output_type": "execute_result",
          "data": {
            "text/plain": [
              "tensor([], size=(0, 4))"
            ]
          },
          "metadata": {},
          "execution_count": 67
        }
      ]
    },
    {
      "cell_type": "code",
      "source": [
        "random.ndim"
      ],
      "metadata": {
        "colab": {
          "base_uri": "https://localhost:8080/"
        },
        "id": "79F7vpCBA-lT",
        "outputId": "3cee294f-f75f-4435-e2a4-cb6f7043a5f6"
      },
      "execution_count": null,
      "outputs": [
        {
          "output_type": "execute_result",
          "data": {
            "text/plain": [
              "2"
            ]
          },
          "metadata": {},
          "execution_count": 30
        }
      ]
    },
    {
      "cell_type": "code",
      "source": [
        "random.shape"
      ],
      "metadata": {
        "colab": {
          "base_uri": "https://localhost:8080/"
        },
        "id": "JBXnVUNeBDoo",
        "outputId": "3523dfee-768f-45ff-8b62-e403b96a730a"
      },
      "execution_count": null,
      "outputs": [
        {
          "output_type": "execute_result",
          "data": {
            "text/plain": [
              "torch.Size([3, 5])"
            ]
          },
          "metadata": {},
          "execution_count": 31
        }
      ]
    },
    {
      "cell_type": "code",
      "source": [
        "new_rn = torch.rand(size=(5, 3, 5))"
      ],
      "metadata": {
        "id": "gRHJdbqRBGCX"
      },
      "execution_count": null,
      "outputs": []
    },
    {
      "cell_type": "code",
      "source": [
        "new_rn"
      ],
      "metadata": {
        "colab": {
          "base_uri": "https://localhost:8080/"
        },
        "id": "oylGtLACBTan",
        "outputId": "54ec3693-e38a-4936-f9fe-d59b1b6bacb6"
      },
      "execution_count": null,
      "outputs": [
        {
          "output_type": "execute_result",
          "data": {
            "text/plain": [
              "tensor([[[0.8007, 0.7883, 0.0539, 0.7345, 0.6912],\n",
              "         [0.4995, 0.1377, 0.1352, 0.2289, 0.5702],\n",
              "         [0.4034, 0.1539, 0.3765, 0.3102, 0.2230]],\n",
              "\n",
              "        [[0.3999, 0.3461, 0.1811, 0.0253, 0.7739],\n",
              "         [0.4953, 0.0494, 0.6026, 0.3369, 0.3370],\n",
              "         [0.7732, 0.0355, 0.5292, 0.1684, 0.4167]],\n",
              "\n",
              "        [[0.3679, 0.7409, 0.0255, 0.2963, 0.4341],\n",
              "         [0.5742, 0.1757, 0.2793, 0.6920, 0.5179],\n",
              "         [0.5592, 0.4939, 0.4710, 0.2547, 0.7340]],\n",
              "\n",
              "        [[0.0519, 0.7713, 0.1819, 0.0855, 0.6093],\n",
              "         [0.4003, 0.0903, 0.6138, 0.7381, 0.3511],\n",
              "         [0.0870, 0.5971, 0.0256, 0.4082, 0.4855]],\n",
              "\n",
              "        [[0.4042, 0.4342, 0.8501, 0.1615, 0.9478],\n",
              "         [0.6566, 0.2741, 0.2782, 0.2023, 0.0496],\n",
              "         [0.3602, 0.2452, 0.8630, 0.9696, 0.0721]]])"
            ]
          },
          "metadata": {},
          "execution_count": 33
        }
      ]
    },
    {
      "cell_type": "code",
      "source": [
        "torch.rand(3)"
      ],
      "metadata": {
        "colab": {
          "base_uri": "https://localhost:8080/"
        },
        "id": "Y0GWuumVBW42",
        "outputId": "284c30ae-6dea-418a-d1dd-6d527629ef95"
      },
      "execution_count": null,
      "outputs": [
        {
          "output_type": "execute_result",
          "data": {
            "text/plain": [
              "tensor([0.3484, 0.2230, 0.8268])"
            ]
          },
          "metadata": {},
          "execution_count": 34
        }
      ]
    },
    {
      "cell_type": "code",
      "source": [
        "new_rn.dtype"
      ],
      "metadata": {
        "colab": {
          "base_uri": "https://localhost:8080/"
        },
        "id": "X1tNpkjABcG7",
        "outputId": "6169d215-a86e-4b27-db18-e2850d6591e6"
      },
      "execution_count": null,
      "outputs": [
        {
          "output_type": "execute_result",
          "data": {
            "text/plain": [
              "torch.float32"
            ]
          },
          "metadata": {},
          "execution_count": 35
        }
      ]
    },
    {
      "cell_type": "code",
      "source": [
        "vector.dtype\n"
      ],
      "metadata": {
        "colab": {
          "base_uri": "https://localhost:8080/"
        },
        "id": "j4RKaRnhBfyd",
        "outputId": "360db7e3-67dd-49de-e3c4-c0c8a2cc80ca"
      },
      "execution_count": null,
      "outputs": [
        {
          "output_type": "execute_result",
          "data": {
            "text/plain": [
              "torch.int64"
            ]
          },
          "metadata": {},
          "execution_count": 36
        }
      ]
    },
    {
      "cell_type": "code",
      "source": [
        "scalar.dtype"
      ],
      "metadata": {
        "colab": {
          "base_uri": "https://localhost:8080/"
        },
        "id": "s2s-xnrqCXrN",
        "outputId": "e0f6e6ae-b982-416f-dbb1-3e6059e6d1eb"
      },
      "execution_count": null,
      "outputs": [
        {
          "output_type": "execute_result",
          "data": {
            "text/plain": [
              "torch.int64"
            ]
          },
          "metadata": {},
          "execution_count": 37
        }
      ]
    },
    {
      "cell_type": "code",
      "source": [
        "torch.rand(2, 3, 4, 5)"
      ],
      "metadata": {
        "colab": {
          "base_uri": "https://localhost:8080/"
        },
        "id": "ttcIm6ziCbzH",
        "outputId": "c5780a7b-a7ec-450a-8eae-158d5693f64c"
      },
      "execution_count": null,
      "outputs": [
        {
          "output_type": "execute_result",
          "data": {
            "text/plain": [
              "tensor([[[[0.2861, 0.4016, 0.8100, 0.1474, 0.4972],\n",
              "          [0.8702, 0.6866, 0.8062, 0.3406, 0.8634],\n",
              "          [0.8573, 0.0875, 0.5440, 0.0093, 0.8802],\n",
              "          [0.0113, 0.9476, 0.1632, 0.7005, 0.5217]],\n",
              "\n",
              "         [[0.4585, 0.5294, 0.1890, 0.1975, 0.9126],\n",
              "          [0.0318, 0.4536, 0.0529, 0.1977, 0.8042],\n",
              "          [0.7790, 0.1105, 0.9470, 0.8158, 0.0860],\n",
              "          [0.0264, 0.3457, 0.7137, 0.1828, 0.5670]],\n",
              "\n",
              "         [[0.7246, 0.6268, 0.1459, 0.1736, 0.5090],\n",
              "          [0.6416, 0.8981, 0.4817, 0.6409, 0.2878],\n",
              "          [0.7861, 0.2645, 0.8813, 0.5117, 0.0021],\n",
              "          [0.8457, 0.2750, 0.0911, 0.4275, 0.1337]]],\n",
              "\n",
              "\n",
              "        [[[0.5727, 0.5190, 0.8989, 0.4695, 0.5897],\n",
              "          [0.1801, 0.2319, 0.1223, 0.1860, 0.1955],\n",
              "          [0.2457, 0.6994, 0.0760, 0.1067, 0.3062],\n",
              "          [0.4626, 0.2052, 0.0856, 0.8675, 0.7393]],\n",
              "\n",
              "         [[0.8952, 0.3844, 0.7985, 0.9854, 0.9916],\n",
              "          [0.6609, 0.0779, 0.8084, 0.2301, 0.2683],\n",
              "          [0.4757, 0.6286, 0.3711, 0.2077, 0.0154],\n",
              "          [0.5000, 0.9814, 0.5818, 0.6536, 0.3631]],\n",
              "\n",
              "         [[0.6777, 0.7791, 0.9550, 0.3922, 0.9708],\n",
              "          [0.4374, 0.9938, 0.7965, 0.9842, 0.5009],\n",
              "          [0.3726, 0.1441, 0.8903, 0.1242, 0.3534],\n",
              "          [0.3054, 0.8865, 0.1315, 0.2975, 0.7280]]]])"
            ]
          },
          "metadata": {},
          "execution_count": 38
        }
      ]
    },
    {
      "cell_type": "markdown",
      "source": [
        "## Zeros and Ones\n"
      ],
      "metadata": {
        "id": "LocMeXd0Csq_"
      }
    },
    {
      "cell_type": "code",
      "source": [
        "one_tensor = torch.ones_like(input=new_rn)\n",
        "one_tensor"
      ],
      "metadata": {
        "colab": {
          "base_uri": "https://localhost:8080/"
        },
        "id": "OsEM-wwUCp1d",
        "outputId": "d21a6659-af65-4b80-f3e2-3cf40920b4d5"
      },
      "execution_count": null,
      "outputs": [
        {
          "output_type": "execute_result",
          "data": {
            "text/plain": [
              "tensor([[[1., 1., 1., 1., 1.],\n",
              "         [1., 1., 1., 1., 1.],\n",
              "         [1., 1., 1., 1., 1.]],\n",
              "\n",
              "        [[1., 1., 1., 1., 1.],\n",
              "         [1., 1., 1., 1., 1.],\n",
              "         [1., 1., 1., 1., 1.]],\n",
              "\n",
              "        [[1., 1., 1., 1., 1.],\n",
              "         [1., 1., 1., 1., 1.],\n",
              "         [1., 1., 1., 1., 1.]],\n",
              "\n",
              "        [[1., 1., 1., 1., 1.],\n",
              "         [1., 1., 1., 1., 1.],\n",
              "         [1., 1., 1., 1., 1.]],\n",
              "\n",
              "        [[1., 1., 1., 1., 1.],\n",
              "         [1., 1., 1., 1., 1.],\n",
              "         [1., 1., 1., 1., 1.]]])"
            ]
          },
          "metadata": {},
          "execution_count": 39
        }
      ]
    },
    {
      "cell_type": "code",
      "source": [
        "one_tensor * new_rn"
      ],
      "metadata": {
        "colab": {
          "base_uri": "https://localhost:8080/"
        },
        "id": "QeM_jjgtCpyh",
        "outputId": "4568a5ec-a027-496a-b3d2-d97f1162cba4"
      },
      "execution_count": null,
      "outputs": [
        {
          "output_type": "execute_result",
          "data": {
            "text/plain": [
              "tensor([[[0.8007, 0.7883, 0.0539, 0.7345, 0.6912],\n",
              "         [0.4995, 0.1377, 0.1352, 0.2289, 0.5702],\n",
              "         [0.4034, 0.1539, 0.3765, 0.3102, 0.2230]],\n",
              "\n",
              "        [[0.3999, 0.3461, 0.1811, 0.0253, 0.7739],\n",
              "         [0.4953, 0.0494, 0.6026, 0.3369, 0.3370],\n",
              "         [0.7732, 0.0355, 0.5292, 0.1684, 0.4167]],\n",
              "\n",
              "        [[0.3679, 0.7409, 0.0255, 0.2963, 0.4341],\n",
              "         [0.5742, 0.1757, 0.2793, 0.6920, 0.5179],\n",
              "         [0.5592, 0.4939, 0.4710, 0.2547, 0.7340]],\n",
              "\n",
              "        [[0.0519, 0.7713, 0.1819, 0.0855, 0.6093],\n",
              "         [0.4003, 0.0903, 0.6138, 0.7381, 0.3511],\n",
              "         [0.0870, 0.5971, 0.0256, 0.4082, 0.4855]],\n",
              "\n",
              "        [[0.4042, 0.4342, 0.8501, 0.1615, 0.9478],\n",
              "         [0.6566, 0.2741, 0.2782, 0.2023, 0.0496],\n",
              "         [0.3602, 0.2452, 0.8630, 0.9696, 0.0721]]])"
            ]
          },
          "metadata": {},
          "execution_count": 40
        }
      ]
    },
    {
      "cell_type": "code",
      "source": [
        "z_tensor = torch.zeros_like(input=new_rn)\n",
        "z_tensor"
      ],
      "metadata": {
        "colab": {
          "base_uri": "https://localhost:8080/"
        },
        "id": "4WynHWiGCpvk",
        "outputId": "df97c4c1-3726-4ebb-cac6-e285eec8b7ec"
      },
      "execution_count": null,
      "outputs": [
        {
          "output_type": "execute_result",
          "data": {
            "text/plain": [
              "tensor([[[0., 0., 0., 0., 0.],\n",
              "         [0., 0., 0., 0., 0.],\n",
              "         [0., 0., 0., 0., 0.]],\n",
              "\n",
              "        [[0., 0., 0., 0., 0.],\n",
              "         [0., 0., 0., 0., 0.],\n",
              "         [0., 0., 0., 0., 0.]],\n",
              "\n",
              "        [[0., 0., 0., 0., 0.],\n",
              "         [0., 0., 0., 0., 0.],\n",
              "         [0., 0., 0., 0., 0.]],\n",
              "\n",
              "        [[0., 0., 0., 0., 0.],\n",
              "         [0., 0., 0., 0., 0.],\n",
              "         [0., 0., 0., 0., 0.]],\n",
              "\n",
              "        [[0., 0., 0., 0., 0.],\n",
              "         [0., 0., 0., 0., 0.],\n",
              "         [0., 0., 0., 0., 0.]]])"
            ]
          },
          "metadata": {},
          "execution_count": 41
        }
      ]
    },
    {
      "cell_type": "code",
      "source": [
        "z_tensor * new_rn"
      ],
      "metadata": {
        "colab": {
          "base_uri": "https://localhost:8080/"
        },
        "id": "ULwe9UF-CpsP",
        "outputId": "899b3033-6bc8-40b0-8484-cdcf2f101460"
      },
      "execution_count": null,
      "outputs": [
        {
          "output_type": "execute_result",
          "data": {
            "text/plain": [
              "tensor([[[0., 0., 0., 0., 0.],\n",
              "         [0., 0., 0., 0., 0.],\n",
              "         [0., 0., 0., 0., 0.]],\n",
              "\n",
              "        [[0., 0., 0., 0., 0.],\n",
              "         [0., 0., 0., 0., 0.],\n",
              "         [0., 0., 0., 0., 0.]],\n",
              "\n",
              "        [[0., 0., 0., 0., 0.],\n",
              "         [0., 0., 0., 0., 0.],\n",
              "         [0., 0., 0., 0., 0.]],\n",
              "\n",
              "        [[0., 0., 0., 0., 0.],\n",
              "         [0., 0., 0., 0., 0.],\n",
              "         [0., 0., 0., 0., 0.]],\n",
              "\n",
              "        [[0., 0., 0., 0., 0.],\n",
              "         [0., 0., 0., 0., 0.],\n",
              "         [0., 0., 0., 0., 0.]]])"
            ]
          },
          "metadata": {},
          "execution_count": 42
        }
      ]
    },
    {
      "cell_type": "code",
      "source": [
        "ten = torch.range(2, 4)"
      ],
      "metadata": {
        "colab": {
          "base_uri": "https://localhost:8080/"
        },
        "id": "W0FlvYz7Cpl-",
        "outputId": "363e2d32-df9f-446a-c707-7679fe3246ea"
      },
      "execution_count": null,
      "outputs": [
        {
          "output_type": "stream",
          "name": "stderr",
          "text": [
            "<ipython-input-43-d94f1b23fb7b>:1: UserWarning: torch.range is deprecated and will be removed in a future release because its behavior is inconsistent with Python's range builtin. Instead, use torch.arange, which produces values in [start, end).\n",
            "  ten = torch.range(2, 4)\n"
          ]
        }
      ]
    },
    {
      "cell_type": "code",
      "source": [
        "ten"
      ],
      "metadata": {
        "colab": {
          "base_uri": "https://localhost:8080/"
        },
        "id": "HKqRoNlwCpXi",
        "outputId": "2cd1d5c3-2b58-41b3-c976-ff05f2113fba"
      },
      "execution_count": null,
      "outputs": [
        {
          "output_type": "execute_result",
          "data": {
            "text/plain": [
              "tensor([2., 3., 4.])"
            ]
          },
          "metadata": {},
          "execution_count": 44
        }
      ]
    },
    {
      "cell_type": "code",
      "source": [
        "w = ten[0]\n",
        "w"
      ],
      "metadata": {
        "colab": {
          "base_uri": "https://localhost:8080/"
        },
        "id": "e_jzxaEWEe79",
        "outputId": "f5a31699-6e9a-4de9-e8b6-d3c95646ff76"
      },
      "execution_count": null,
      "outputs": [
        {
          "output_type": "execute_result",
          "data": {
            "text/plain": [
              "tensor(2.)"
            ]
          },
          "metadata": {},
          "execution_count": 45
        }
      ]
    },
    {
      "cell_type": "code",
      "source": [
        "w_zero = torch.zeros_like(input=w)\n",
        "w_zero"
      ],
      "metadata": {
        "colab": {
          "base_uri": "https://localhost:8080/"
        },
        "id": "LNxvY2AaEe4J",
        "outputId": "102f1a7b-1cbd-447a-8a8f-7d8ec03d2124"
      },
      "execution_count": null,
      "outputs": [
        {
          "output_type": "execute_result",
          "data": {
            "text/plain": [
              "tensor(0.)"
            ]
          },
          "metadata": {},
          "execution_count": 46
        }
      ]
    },
    {
      "cell_type": "code",
      "source": [
        "w_zero * ten"
      ],
      "metadata": {
        "colab": {
          "base_uri": "https://localhost:8080/"
        },
        "id": "7j4lR_ffEe2Y",
        "outputId": "073cf01c-5a75-4628-9a76-c0f087a9be72"
      },
      "execution_count": null,
      "outputs": [
        {
          "output_type": "execute_result",
          "data": {
            "text/plain": [
              "tensor([0., 0., 0.])"
            ]
          },
          "metadata": {},
          "execution_count": 47
        }
      ]
    },
    {
      "cell_type": "code",
      "source": [
        "w_zero.dtype"
      ],
      "metadata": {
        "id": "Zid4hi3_EezI",
        "colab": {
          "base_uri": "https://localhost:8080/"
        },
        "outputId": "d65b3c6f-4efd-478f-d7c4-d47f3e1de7cf"
      },
      "execution_count": null,
      "outputs": [
        {
          "output_type": "execute_result",
          "data": {
            "text/plain": [
              "torch.float32"
            ]
          },
          "metadata": {},
          "execution_count": 48
        }
      ]
    },
    {
      "cell_type": "code",
      "source": [],
      "metadata": {
        "id": "keR0QvIhEexj"
      },
      "execution_count": null,
      "outputs": []
    },
    {
      "cell_type": "markdown",
      "source": [
        "## Tensor Datatypes"
      ],
      "metadata": {
        "id": "aEOOs_bHpcf9"
      }
    },
    {
      "cell_type": "code",
      "source": [
        "null_tensor = torch.tensor([3., 5., 7.])"
      ],
      "metadata": {
        "id": "ZyvettEkEeuV"
      },
      "execution_count": null,
      "outputs": []
    },
    {
      "cell_type": "code",
      "source": [
        "null_tensor.shape, null_tensor.dtype, null_tensor.requires_grad, null_tensor.device"
      ],
      "metadata": {
        "id": "eztExIwuEes1",
        "colab": {
          "base_uri": "https://localhost:8080/"
        },
        "outputId": "b3d27fd3-8e44-423d-ff88-2f6f6df27935"
      },
      "execution_count": null,
      "outputs": [
        {
          "output_type": "execute_result",
          "data": {
            "text/plain": [
              "(torch.Size([3]), torch.float32, False, device(type='cpu'))"
            ]
          },
          "metadata": {},
          "execution_count": 50
        }
      ]
    },
    {
      "cell_type": "code",
      "source": [
        "float_16_tensor = torch.tensor([45., 32., 44., 13.], dtype=torch.float16)\n",
        "float_16_tensor"
      ],
      "metadata": {
        "id": "ZAWvqXm8EepW",
        "colab": {
          "base_uri": "https://localhost:8080/"
        },
        "outputId": "3a11fcd1-652b-43f2-946c-aca075e4048a"
      },
      "execution_count": null,
      "outputs": [
        {
          "output_type": "execute_result",
          "data": {
            "text/plain": [
              "tensor([45., 32., 44., 13.], dtype=torch.float16)"
            ]
          },
          "metadata": {},
          "execution_count": 51
        }
      ]
    },
    {
      "cell_type": "code",
      "source": [
        "float_32_tensor = float_16_tensor.type(torch.float)\n",
        "float_32_tensor"
      ],
      "metadata": {
        "id": "jlyrZ3gaEen5",
        "colab": {
          "base_uri": "https://localhost:8080/"
        },
        "outputId": "7d8b5f79-647e-4761-ff3e-e1f17b4daacd"
      },
      "execution_count": null,
      "outputs": [
        {
          "output_type": "execute_result",
          "data": {
            "text/plain": [
              "tensor([45., 32., 44., 13.])"
            ]
          },
          "metadata": {},
          "execution_count": 52
        }
      ]
    },
    {
      "cell_type": "code",
      "source": [
        "floatc128tensor = float_32_tensor.type(torch.complex128)\n",
        "floatc128tensor"
      ],
      "metadata": {
        "colab": {
          "base_uri": "https://localhost:8080/"
        },
        "id": "oNtZBi8qtFeo",
        "outputId": "453949f5-cd62-49e1-811b-e326e76db366"
      },
      "execution_count": null,
      "outputs": [
        {
          "output_type": "execute_result",
          "data": {
            "text/plain": [
              "tensor([45.+0.j, 32.+0.j, 44.+0.j, 13.+0.j], dtype=torch.complex128)"
            ]
          },
          "metadata": {},
          "execution_count": 53
        }
      ]
    },
    {
      "cell_type": "code",
      "source": [
        "floatc128tensor.shape, null_tensor.shape\n",
        "# null_tensor = torch.tensor([2, 3, 4, 5])"
      ],
      "metadata": {
        "id": "_3l0shQetoXE"
      },
      "execution_count": null,
      "outputs": []
    },
    {
      "cell_type": "code",
      "source": [
        "math_op = floatc128tensor * null_tensor\n",
        "math_op\n"
      ],
      "metadata": {
        "colab": {
          "base_uri": "https://localhost:8080/"
        },
        "id": "79LrmIuLt8ET",
        "outputId": "7dcebe38-5a12-470c-92c9-745025483954"
      },
      "execution_count": null,
      "outputs": [
        {
          "output_type": "execute_result",
          "data": {
            "text/plain": [
              "tensor([ 90.+0.j,  96.+0.j, 176.+0.j,  65.+0.j], dtype=torch.complex128)"
            ]
          },
          "metadata": {},
          "execution_count": 55
        }
      ]
    },
    {
      "cell_type": "code",
      "source": [
        "null_tensor = null_tensor.type(torch.int8)\n",
        "null_tensor"
      ],
      "metadata": {
        "colab": {
          "base_uri": "https://localhost:8080/"
        },
        "id": "ckjaektyuojk",
        "outputId": "56217283-7804-4b85-ed86-553201491613"
      },
      "execution_count": null,
      "outputs": [
        {
          "output_type": "execute_result",
          "data": {
            "text/plain": [
              "tensor([2, 3, 4, 5], dtype=torch.int8)"
            ]
          },
          "metadata": {},
          "execution_count": 56
        }
      ]
    },
    {
      "cell_type": "code",
      "source": [
        "math_op = floatc128tensor * null_tensor\n",
        "math_op"
      ],
      "metadata": {
        "colab": {
          "base_uri": "https://localhost:8080/"
        },
        "id": "9iX6IL2Eu7YF",
        "outputId": "84c34d5a-e0f3-4e47-94da-7d3a4c4c39fd"
      },
      "execution_count": null,
      "outputs": [
        {
          "output_type": "execute_result",
          "data": {
            "text/plain": [
              "tensor([ 90.+0.j,  96.+0.j, 176.+0.j,  65.+0.j], dtype=torch.complex128)"
            ]
          },
          "metadata": {},
          "execution_count": 57
        }
      ]
    },
    {
      "cell_type": "code",
      "source": [
        "null_tensor = null_tensor.type(torch.float16)\n",
        "null_tensor"
      ],
      "metadata": {
        "colab": {
          "base_uri": "https://localhost:8080/"
        },
        "id": "Ny9_i62Tu9eG",
        "outputId": "d1ac096e-46c2-4b41-cba4-b3c50791c7d5"
      },
      "execution_count": null,
      "outputs": [
        {
          "output_type": "execute_result",
          "data": {
            "text/plain": [
              "tensor([2., 3., 4., 5.], dtype=torch.float16)"
            ]
          },
          "metadata": {},
          "execution_count": 58
        }
      ]
    },
    {
      "cell_type": "code",
      "source": [
        "torch64_tensor = floatc128tensor.type(torch.float64)\n",
        "torch64_tensor"
      ],
      "metadata": {
        "colab": {
          "base_uri": "https://localhost:8080/"
        },
        "id": "uJrM0mdEvNbR",
        "outputId": "3ea12e31-17f7-4ed9-8c9b-284012648aac"
      },
      "execution_count": null,
      "outputs": [
        {
          "output_type": "stream",
          "name": "stderr",
          "text": [
            "<ipython-input-59-90d02f4e266a>:1: UserWarning: Casting complex values to real discards the imaginary part (Triggered internally at ../aten/src/ATen/native/Copy.cpp:276.)\n",
            "  torch64_tensor = floatc128tensor.type(torch.float64)\n"
          ]
        },
        {
          "output_type": "execute_result",
          "data": {
            "text/plain": [
              "tensor([45., 32., 44., 13.], dtype=torch.float64)"
            ]
          },
          "metadata": {},
          "execution_count": 59
        }
      ]
    },
    {
      "cell_type": "code",
      "source": [
        "math_op = torch64_tensor * null_tensor\n",
        "math_op, torch64_tensor.dtype, null_tensor.dtype"
      ],
      "metadata": {
        "colab": {
          "base_uri": "https://localhost:8080/"
        },
        "id": "p7ntjW_EvNXz",
        "outputId": "e1463992-d468-4223-f7d4-ea31d9b4bc88"
      },
      "execution_count": null,
      "outputs": [
        {
          "output_type": "execute_result",
          "data": {
            "text/plain": [
              "(tensor([ 90.,  96., 176.,  65.], dtype=torch.float64),\n",
              " torch.float64,\n",
              " torch.float16)"
            ]
          },
          "metadata": {},
          "execution_count": 60
        }
      ]
    },
    {
      "cell_type": "code",
      "source": [
        "float32_tensor = torch64_tensor.type(torch.float)\n",
        "float32_tensor"
      ],
      "metadata": {
        "colab": {
          "base_uri": "https://localhost:8080/"
        },
        "id": "kLnm5JxovNVY",
        "outputId": "ab6cd103-d236-475a-d46b-6778c1a41847"
      },
      "execution_count": null,
      "outputs": [
        {
          "output_type": "execute_result",
          "data": {
            "text/plain": [
              "tensor([45., 32., 44., 13.])"
            ]
          },
          "metadata": {},
          "execution_count": 61
        }
      ]
    },
    {
      "cell_type": "code",
      "source": [
        "math_op = float32_tensor * null_tensor\n",
        "math_op, float32_tensor.dtype, null_tensor.dtype"
      ],
      "metadata": {
        "colab": {
          "base_uri": "https://localhost:8080/"
        },
        "id": "Dhy0B30AvNQ4",
        "outputId": "fbcc4abf-fde2-4187-b6b5-64feea85beb4"
      },
      "execution_count": null,
      "outputs": [
        {
          "output_type": "execute_result",
          "data": {
            "text/plain": [
              "(tensor([ 90.,  96., 176.,  65.]), torch.float32, torch.float16)"
            ]
          },
          "metadata": {},
          "execution_count": 62
        }
      ]
    },
    {
      "cell_type": "code",
      "source": [
        "float32_tensor.device, null_tensor.device"
      ],
      "metadata": {
        "colab": {
          "base_uri": "https://localhost:8080/"
        },
        "id": "dpLm5pidvNFu",
        "outputId": "b3059b30-b161-4483-f83b-adfed877bb1c"
      },
      "execution_count": null,
      "outputs": [
        {
          "output_type": "execute_result",
          "data": {
            "text/plain": [
              "(device(type='cpu'), device(type='cpu'))"
            ]
          },
          "metadata": {},
          "execution_count": 63
        }
      ]
    },
    {
      "cell_type": "code",
      "source": [
        "float32_tensor = torch.tensor([ 90.,  96., 176.,  65.], dtype=torch.float, device=torch.device('cuda'))\n",
        "float32_tensor"
      ],
      "metadata": {
        "colab": {
          "base_uri": "https://localhost:8080/"
        },
        "id": "-xWJ9y7kxu14",
        "outputId": "b7cac622-6ac8-4399-8e07-e6385d9b1320"
      },
      "execution_count": null,
      "outputs": [
        {
          "output_type": "execute_result",
          "data": {
            "text/plain": [
              "tensor([ 90.,  96., 176.,  65.], device='cuda:0')"
            ]
          },
          "metadata": {},
          "execution_count": 64
        }
      ]
    },
    {
      "cell_type": "code",
      "source": [
        "math_op = float32_tensor * null_tensor\n",
        "math_op, float32_tensor.dtype, null_tensor.dtype"
      ],
      "metadata": {
        "colab": {
          "base_uri": "https://localhost:8080/",
          "height": 182
        },
        "id": "K83xDRHVx6xh",
        "outputId": "3d8ddc3b-3971-461b-8eec-0fa3a7175e93"
      },
      "execution_count": null,
      "outputs": [
        {
          "output_type": "error",
          "ename": "RuntimeError",
          "evalue": "ignored",
          "traceback": [
            "\u001b[0;31m---------------------------------------------------------------------------\u001b[0m",
            "\u001b[0;31mRuntimeError\u001b[0m                              Traceback (most recent call last)",
            "\u001b[0;32m<ipython-input-65-8d91a37d1241>\u001b[0m in \u001b[0;36m<cell line: 1>\u001b[0;34m()\u001b[0m\n\u001b[0;32m----> 1\u001b[0;31m \u001b[0mmath_op\u001b[0m \u001b[0;34m=\u001b[0m \u001b[0mfloat32_tensor\u001b[0m \u001b[0;34m*\u001b[0m \u001b[0mnull_tensor\u001b[0m\u001b[0;34m\u001b[0m\u001b[0;34m\u001b[0m\u001b[0m\n\u001b[0m\u001b[1;32m      2\u001b[0m \u001b[0mmath_op\u001b[0m\u001b[0;34m,\u001b[0m \u001b[0mfloat32_tensor\u001b[0m\u001b[0;34m.\u001b[0m\u001b[0mdtype\u001b[0m\u001b[0;34m,\u001b[0m \u001b[0mnull_tensor\u001b[0m\u001b[0;34m.\u001b[0m\u001b[0mdtype\u001b[0m\u001b[0;34m\u001b[0m\u001b[0;34m\u001b[0m\u001b[0m\n",
            "\u001b[0;31mRuntimeError\u001b[0m: Expected all tensors to be on the same device, but found at least two devices, cuda:0 and cpu!"
          ]
        }
      ]
    },
    {
      "cell_type": "code",
      "source": [],
      "metadata": {
        "id": "BIxvOpp6y1vM"
      },
      "execution_count": null,
      "outputs": []
    }
  ]
}