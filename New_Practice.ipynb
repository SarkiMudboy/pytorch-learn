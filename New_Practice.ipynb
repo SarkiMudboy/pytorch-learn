{
  "nbformat": 4,
  "nbformat_minor": 0,
  "metadata": {
    "colab": {
      "provenance": [],
      "gpuType": "T4",
      "authorship_tag": "ABX9TyPq+5kw2DUIKU0RD8S9MnCG",
      "include_colab_link": true
    },
    "kernelspec": {
      "name": "python3",
      "display_name": "Python 3"
    },
    "language_info": {
      "name": "python"
    }
  },
  "cells": [
    {
      "cell_type": "markdown",
      "metadata": {
        "id": "view-in-github",
        "colab_type": "text"
      },
      "source": [
        "<a href=\"https://colab.research.google.com/github/SarkiMudboy/pytorch-learn/blob/main/New_Practice.ipynb\" target=\"_parent\"><img src=\"https://colab.research.google.com/assets/colab-badge.svg\" alt=\"Open In Colab\"/></a>"
      ]
    },
    {
      "cell_type": "code",
      "execution_count": null,
      "metadata": {
        "colab": {
          "base_uri": "https://localhost:8080/",
          "height": 36
        },
        "id": "U_tP574QDerg",
        "outputId": "14927e71-0184-45fa-9cc1-8221d67e9f25"
      },
      "outputs": [
        {
          "output_type": "execute_result",
          "data": {
            "text/plain": [
              "'2.0.1+cu118'"
            ],
            "application/vnd.google.colaboratory.intrinsic+json": {
              "type": "string"
            }
          },
          "metadata": {},
          "execution_count": 1
        }
      ],
      "source": [
        "import torch\n",
        "torch.__version__"
      ]
    },
    {
      "cell_type": "code",
      "source": [
        "# scalar\n",
        "scalar = torch.tensor(2)\n",
        "scalar"
      ],
      "metadata": {
        "id": "xG4WPwfrHy_X",
        "colab": {
          "base_uri": "https://localhost:8080/"
        },
        "outputId": "e4f8ee88-5d8c-4485-b0e5-f58a2261d0aa"
      },
      "execution_count": null,
      "outputs": [
        {
          "output_type": "execute_result",
          "data": {
            "text/plain": [
              "tensor(2)"
            ]
          },
          "metadata": {},
          "execution_count": 81
        }
      ]
    },
    {
      "cell_type": "code",
      "source": [
        "# get dimension\n",
        "scalar.ndim\n",
        "\n",
        "# get integer (2)\n",
        "two = scalar.item()"
      ],
      "metadata": {
        "id": "z_ElchAKEbt0"
      },
      "execution_count": null,
      "outputs": []
    },
    {
      "cell_type": "code",
      "source": [
        "# print type\n",
        "type(scalar)"
      ],
      "metadata": {
        "colab": {
          "base_uri": "https://localhost:8080/"
        },
        "id": "ABjFazPIFBxm",
        "outputId": "a23ebb81-620f-44af-eeec-92a7669ce2ec"
      },
      "execution_count": null,
      "outputs": [
        {
          "output_type": "execute_result",
          "data": {
            "text/plain": [
              "torch.Tensor"
            ]
          },
          "metadata": {},
          "execution_count": 83
        }
      ]
    },
    {
      "cell_type": "code",
      "source": [
        "type(two)"
      ],
      "metadata": {
        "colab": {
          "base_uri": "https://localhost:8080/"
        },
        "id": "KUK1q8wQFIeL",
        "outputId": "dfe39ffe-a72a-4c6b-ef2c-4ff8230aa413"
      },
      "execution_count": null,
      "outputs": [
        {
          "output_type": "execute_result",
          "data": {
            "text/plain": [
              "int"
            ]
          },
          "metadata": {},
          "execution_count": 84
        }
      ]
    },
    {
      "cell_type": "code",
      "source": [
        "zero = torch.tensor(0)\n",
        "zero"
      ],
      "metadata": {
        "colab": {
          "base_uri": "https://localhost:8080/"
        },
        "id": "LYq3KDj1E9SJ",
        "outputId": "4e25f6a6-eda0-4b91-8c54-45f4335caabc"
      },
      "execution_count": null,
      "outputs": [
        {
          "output_type": "execute_result",
          "data": {
            "text/plain": [
              "tensor(0)"
            ]
          },
          "metadata": {},
          "execution_count": 85
        }
      ]
    },
    {
      "cell_type": "code",
      "source": [
        "zero.ndim"
      ],
      "metadata": {
        "colab": {
          "base_uri": "https://localhost:8080/"
        },
        "id": "ML6M6Z0tFU8o",
        "outputId": "ba2c0926-900e-4fc0-8741-205c648daf30"
      },
      "execution_count": null,
      "outputs": [
        {
          "output_type": "execute_result",
          "data": {
            "text/plain": [
              "0"
            ]
          },
          "metadata": {},
          "execution_count": 86
        }
      ]
    },
    {
      "cell_type": "code",
      "source": [
        "float_type = torch.tensor(0.23)\n",
        "float_type"
      ],
      "metadata": {
        "colab": {
          "base_uri": "https://localhost:8080/"
        },
        "id": "XHx7zIHSFmM8",
        "outputId": "7788bf4c-36cd-46d2-fea0-7acbfa52221b"
      },
      "execution_count": null,
      "outputs": [
        {
          "output_type": "execute_result",
          "data": {
            "text/plain": [
              "tensor(0.2300)"
            ]
          },
          "metadata": {},
          "execution_count": 87
        }
      ]
    },
    {
      "cell_type": "code",
      "source": [
        "float_type.ndim"
      ],
      "metadata": {
        "colab": {
          "base_uri": "https://localhost:8080/"
        },
        "id": "Yu5ToDf4FwGP",
        "outputId": "59d6b23a-2a16-41f9-f0e8-7e03f66fad7a"
      },
      "execution_count": null,
      "outputs": [
        {
          "output_type": "execute_result",
          "data": {
            "text/plain": [
              "0"
            ]
          },
          "metadata": {},
          "execution_count": 88
        }
      ]
    },
    {
      "cell_type": "code",
      "source": [
        "scalar.shape"
      ],
      "metadata": {
        "colab": {
          "base_uri": "https://localhost:8080/"
        },
        "id": "JYCuKRB8F30T",
        "outputId": "389d2b04-9353-428e-9b76-e351fbed42b6"
      },
      "execution_count": null,
      "outputs": [
        {
          "output_type": "execute_result",
          "data": {
            "text/plain": [
              "torch.Size([])"
            ]
          },
          "metadata": {},
          "execution_count": 89
        }
      ]
    },
    {
      "cell_type": "code",
      "source": [
        "scalar"
      ],
      "metadata": {
        "colab": {
          "base_uri": "https://localhost:8080/"
        },
        "id": "JIltbygbU-3t",
        "outputId": "be861398-b277-4a2b-d7ca-4f25e6816a9e"
      },
      "execution_count": null,
      "outputs": [
        {
          "output_type": "execute_result",
          "data": {
            "text/plain": [
              "tensor(2)"
            ]
          },
          "metadata": {},
          "execution_count": 90
        }
      ]
    },
    {
      "cell_type": "code",
      "source": [
        "zero.shape"
      ],
      "metadata": {
        "colab": {
          "base_uri": "https://localhost:8080/"
        },
        "id": "TkYkGqxwVAsx",
        "outputId": "a6d818db-ba61-4cff-ca65-5a0229f1284b"
      },
      "execution_count": null,
      "outputs": [
        {
          "output_type": "execute_result",
          "data": {
            "text/plain": [
              "torch.Size([])"
            ]
          },
          "metadata": {},
          "execution_count": 91
        }
      ]
    },
    {
      "cell_type": "code",
      "source": [
        "float_type.shape"
      ],
      "metadata": {
        "colab": {
          "base_uri": "https://localhost:8080/"
        },
        "id": "1mbO4ciYVD_8",
        "outputId": "77bf395e-003a-4118-90d0-a0dc4fbdbbe4"
      },
      "execution_count": null,
      "outputs": [
        {
          "output_type": "execute_result",
          "data": {
            "text/plain": [
              "torch.Size([])"
            ]
          },
          "metadata": {},
          "execution_count": 92
        }
      ]
    },
    {
      "cell_type": "code",
      "source": [
        "# Vectors\n",
        "\n",
        "vector = torch.tensor([[2, 3], [4, 5]])\n",
        "vector"
      ],
      "metadata": {
        "colab": {
          "base_uri": "https://localhost:8080/"
        },
        "id": "PevYzIQzVMXV",
        "outputId": "f02aac86-b815-4e41-83e7-1f53877c03b8"
      },
      "execution_count": null,
      "outputs": [
        {
          "output_type": "execute_result",
          "data": {
            "text/plain": [
              "tensor([[2, 3],\n",
              "        [4, 5]])"
            ]
          },
          "metadata": {},
          "execution_count": 93
        }
      ]
    },
    {
      "cell_type": "code",
      "source": [
        "print(vector.ndim, vector.shape)"
      ],
      "metadata": {
        "colab": {
          "base_uri": "https://localhost:8080/"
        },
        "id": "kXaijWlgXK-a",
        "outputId": "c77c0fff-0eff-47e9-cced-c6c4caf4cae1"
      },
      "execution_count": null,
      "outputs": [
        {
          "output_type": "stream",
          "name": "stdout",
          "text": [
            "2 torch.Size([2, 2])\n"
          ]
        }
      ]
    },
    {
      "cell_type": "code",
      "source": [
        "three_component_vector = torch.tensor([[1, 2], [3.4, 0.002], [1.2, 4]])\n",
        "three_component_vector"
      ],
      "metadata": {
        "colab": {
          "base_uri": "https://localhost:8080/"
        },
        "id": "CvnYy4j1XYvV",
        "outputId": "fd41dd0c-a947-4817-9c6a-3aac1db3e8f0"
      },
      "execution_count": null,
      "outputs": [
        {
          "output_type": "execute_result",
          "data": {
            "text/plain": [
              "tensor([[1.0000e+00, 2.0000e+00],\n",
              "        [3.4000e+00, 2.0000e-03],\n",
              "        [1.2000e+00, 4.0000e+00]])"
            ]
          },
          "metadata": {},
          "execution_count": 95
        }
      ]
    },
    {
      "cell_type": "code",
      "source": [
        "three_component_vector.shape"
      ],
      "metadata": {
        "colab": {
          "base_uri": "https://localhost:8080/"
        },
        "id": "ykSbKZpCXnka",
        "outputId": "1b151511-842e-4090-e188-62a0889aecfe"
      },
      "execution_count": null,
      "outputs": [
        {
          "output_type": "execute_result",
          "data": {
            "text/plain": [
              "torch.Size([3, 2])"
            ]
          },
          "metadata": {},
          "execution_count": 96
        }
      ]
    },
    {
      "cell_type": "code",
      "source": [
        "irregular = torch.tensor([[2, 5, 6], [3, 3, 2]])\n",
        "irregular.shape"
      ],
      "metadata": {
        "colab": {
          "base_uri": "https://localhost:8080/"
        },
        "id": "AOBYpq4nXvxb",
        "outputId": "b3e3c4fb-8e1c-4e3e-8b02-8c1d20ce4e0c"
      },
      "execution_count": null,
      "outputs": [
        {
          "output_type": "execute_result",
          "data": {
            "text/plain": [
              "torch.Size([2, 3])"
            ]
          },
          "metadata": {},
          "execution_count": 97
        }
      ]
    },
    {
      "cell_type": "code",
      "source": [
        "irregular.ndim"
      ],
      "metadata": {
        "colab": {
          "base_uri": "https://localhost:8080/"
        },
        "id": "akOz7o7IYCSd",
        "outputId": "34698505-7a86-4e22-ab6f-c8291f0e4ace"
      },
      "execution_count": null,
      "outputs": [
        {
          "output_type": "execute_result",
          "data": {
            "text/plain": [
              "2"
            ]
          },
          "metadata": {},
          "execution_count": 98
        }
      ]
    },
    {
      "cell_type": "code",
      "source": [
        "one_d = torch.tensor([3, 4])\n",
        "one_d"
      ],
      "metadata": {
        "colab": {
          "base_uri": "https://localhost:8080/"
        },
        "id": "uftyVEw1YGBv",
        "outputId": "57970275-c390-45d1-9935-e77f6907353f"
      },
      "execution_count": null,
      "outputs": [
        {
          "output_type": "execute_result",
          "data": {
            "text/plain": [
              "tensor([3, 4])"
            ]
          },
          "metadata": {},
          "execution_count": 99
        }
      ]
    },
    {
      "cell_type": "code",
      "source": [
        "one_d.ndim"
      ],
      "metadata": {
        "colab": {
          "base_uri": "https://localhost:8080/"
        },
        "id": "9LFp1QVPY_5C",
        "outputId": "f55e1c0b-436f-422f-a640-4fa31a4c97d9"
      },
      "execution_count": null,
      "outputs": [
        {
          "output_type": "execute_result",
          "data": {
            "text/plain": [
              "1"
            ]
          },
          "metadata": {},
          "execution_count": 100
        }
      ]
    },
    {
      "cell_type": "code",
      "source": [
        "one_d.shape"
      ],
      "metadata": {
        "colab": {
          "base_uri": "https://localhost:8080/"
        },
        "id": "rTVIzg__ZCtj",
        "outputId": "79ed13a0-5da1-415f-962b-69dd8a3b3d40"
      },
      "execution_count": null,
      "outputs": [
        {
          "output_type": "execute_result",
          "data": {
            "text/plain": [
              "torch.Size([2])"
            ]
          },
          "metadata": {},
          "execution_count": 101
        }
      ]
    },
    {
      "cell_type": "code",
      "source": [
        "MATRIX = torch.tensor([[3, 4], [3, 4]])\n",
        "MATRIX"
      ],
      "metadata": {
        "colab": {
          "base_uri": "https://localhost:8080/"
        },
        "id": "qjlEd1BeZFnH",
        "outputId": "30243c6d-73ca-4c05-8227-2062e5b9b556"
      },
      "execution_count": null,
      "outputs": [
        {
          "output_type": "execute_result",
          "data": {
            "text/plain": [
              "tensor([[3, 4],\n",
              "        [3, 4]])"
            ]
          },
          "metadata": {},
          "execution_count": 102
        }
      ]
    },
    {
      "cell_type": "code",
      "source": [
        "# MATRIX.item() -> bug"
      ],
      "metadata": {
        "id": "JD2M50oYZ57S"
      },
      "execution_count": null,
      "outputs": []
    },
    {
      "cell_type": "code",
      "source": [
        "detail = \"first element -> %s\" % MATRIX[0]\n",
        "print(detail)"
      ],
      "metadata": {
        "colab": {
          "base_uri": "https://localhost:8080/"
        },
        "id": "yWI_UlJqaDAZ",
        "outputId": "5d09925e-c19b-435b-f208-a4db55a683ed"
      },
      "execution_count": null,
      "outputs": [
        {
          "output_type": "stream",
          "name": "stdout",
          "text": [
            "first element -> tensor([3, 4])\n"
          ]
        }
      ]
    },
    {
      "cell_type": "code",
      "source": [
        "MATRIX[0].ndim"
      ],
      "metadata": {
        "colab": {
          "base_uri": "https://localhost:8080/"
        },
        "id": "LORBfPiLazfI",
        "outputId": "01176b5a-1204-453b-aa36-1b97d1ca2ded"
      },
      "execution_count": null,
      "outputs": [
        {
          "output_type": "execute_result",
          "data": {
            "text/plain": [
              "1"
            ]
          },
          "metadata": {},
          "execution_count": 105
        }
      ]
    },
    {
      "cell_type": "code",
      "source": [
        "MATRIX[0].shape"
      ],
      "metadata": {
        "colab": {
          "base_uri": "https://localhost:8080/"
        },
        "id": "BU-ckEJVb9E4",
        "outputId": "86ce0d1d-a816-49db-ebd2-71be63136862"
      },
      "execution_count": null,
      "outputs": [
        {
          "output_type": "execute_result",
          "data": {
            "text/plain": [
              "torch.Size([2])"
            ]
          },
          "metadata": {},
          "execution_count": 106
        }
      ]
    },
    {
      "cell_type": "code",
      "source": [
        "TENSOR = torch.tensor([\n",
        "    [\n",
        "        [2, 4, 5],\n",
        "        [3, 6, 8],\n",
        "     ],\n",
        "    [\n",
        "        [2, 3, 6],\n",
        "        [0, 8, 9]\n",
        "     ],\n",
        "    [\n",
        "        [3, 1, 4],\n",
        "        [0, 0, 3]\n",
        "    ]\n",
        "    ])\n",
        "TENSOR"
      ],
      "metadata": {
        "colab": {
          "base_uri": "https://localhost:8080/"
        },
        "id": "axB8Dc1HcA8Q",
        "outputId": "769edf39-e7a4-42b6-8a95-f3c90532a68a"
      },
      "execution_count": null,
      "outputs": [
        {
          "output_type": "execute_result",
          "data": {
            "text/plain": [
              "tensor([[[2, 4, 5],\n",
              "         [3, 6, 8]],\n",
              "\n",
              "        [[2, 3, 6],\n",
              "         [0, 8, 9]],\n",
              "\n",
              "        [[3, 1, 4],\n",
              "         [0, 0, 3]]])"
            ]
          },
          "metadata": {},
          "execution_count": 107
        }
      ]
    },
    {
      "cell_type": "code",
      "source": [
        "TENSOR.shape"
      ],
      "metadata": {
        "colab": {
          "base_uri": "https://localhost:8080/"
        },
        "id": "mAAH01q9cRcO",
        "outputId": "4e88b38e-4eb9-4e4a-d6a7-851940cdcaff"
      },
      "execution_count": null,
      "outputs": [
        {
          "output_type": "execute_result",
          "data": {
            "text/plain": [
              "torch.Size([3, 2, 3])"
            ]
          },
          "metadata": {},
          "execution_count": 108
        }
      ]
    },
    {
      "cell_type": "code",
      "source": [
        "TENSOR.ndim"
      ],
      "metadata": {
        "colab": {
          "base_uri": "https://localhost:8080/"
        },
        "id": "BgUKIt0gcVE-",
        "outputId": "c3b069f7-96cd-40b0-a034-5097bbf2a94d"
      },
      "execution_count": null,
      "outputs": [
        {
          "output_type": "execute_result",
          "data": {
            "text/plain": [
              "3"
            ]
          },
          "metadata": {},
          "execution_count": 109
        }
      ]
    },
    {
      "cell_type": "markdown",
      "source": [
        "##Random tensors"
      ],
      "metadata": {
        "id": "DDyi1KhYuNNu"
      }
    },
    {
      "cell_type": "code",
      "source": [
        "random_tensor = torch.rand(2)\n",
        "print(random_tensor, random_tensor.shape)"
      ],
      "metadata": {
        "colab": {
          "base_uri": "https://localhost:8080/"
        },
        "id": "8WLRD211uRMl",
        "outputId": "e71fedda-3310-4593-eca0-22d5514322ec"
      },
      "execution_count": null,
      "outputs": [
        {
          "output_type": "stream",
          "name": "stdout",
          "text": [
            "tensor([0.1023, 0.8577]) torch.Size([2])\n"
          ]
        }
      ]
    },
    {
      "cell_type": "code",
      "source": [
        "random_tensor_2 = torch.rand(2, 3)\n",
        "random_tensor_2"
      ],
      "metadata": {
        "colab": {
          "base_uri": "https://localhost:8080/"
        },
        "id": "q_0-XnUquire",
        "outputId": "9e4faeb5-9a11-486b-b5e7-c188cbd78269"
      },
      "execution_count": null,
      "outputs": [
        {
          "output_type": "execute_result",
          "data": {
            "text/plain": [
              "tensor([[0.0773, 0.8134, 0.6742],\n",
              "        [0.4227, 0.0440, 0.7117]])"
            ]
          },
          "metadata": {},
          "execution_count": 111
        }
      ]
    },
    {
      "cell_type": "code",
      "source": [
        "random_tensor_3 = torch.rand(size=(21, 3, 11))\n",
        "print(random_tensor_3, random_tensor_3.shape)"
      ],
      "metadata": {
        "colab": {
          "base_uri": "https://localhost:8080/"
        },
        "id": "fhXrH7TTuu5t",
        "outputId": "920a231b-14a5-4818-d1a7-db87b74c7fa2"
      },
      "execution_count": null,
      "outputs": [
        {
          "output_type": "stream",
          "name": "stdout",
          "text": [
            "tensor([[[0.1371, 0.9055, 0.8073, 0.3904, 0.9987, 0.2981, 0.8093, 0.3721,\n",
            "          0.8241, 0.6049, 0.4826],\n",
            "         [0.3585, 0.9986, 0.5379, 0.6350, 0.5567, 0.3055, 0.1793, 0.1726,\n",
            "          0.3466, 0.9611, 0.2596],\n",
            "         [0.9268, 0.8524, 0.0043, 0.8556, 0.2240, 0.7805, 0.8401, 0.7898,\n",
            "          0.9230, 0.8155, 0.6571]],\n",
            "\n",
            "        [[0.1179, 0.7314, 0.7730, 0.4213, 0.4901, 0.6246, 0.2978, 0.4031,\n",
            "          0.0677, 0.7734, 0.6080],\n",
            "         [0.2717, 0.0133, 0.3957, 0.7970, 0.6050, 0.9376, 0.6701, 0.1499,\n",
            "          0.0710, 0.8225, 0.0394],\n",
            "         [0.1315, 0.2132, 0.6372, 0.9676, 0.4822, 0.9177, 0.5979, 0.5720,\n",
            "          0.7753, 0.3036, 0.8037]],\n",
            "\n",
            "        [[0.9214, 0.8232, 0.4381, 0.4932, 0.4830, 0.6918, 0.8579, 0.9464,\n",
            "          0.4573, 0.2589, 0.7239],\n",
            "         [0.6812, 0.5640, 0.4272, 0.4953, 0.5751, 0.2326, 0.9132, 0.2305,\n",
            "          0.4023, 0.3153, 0.5698],\n",
            "         [0.4186, 0.5019, 0.4653, 0.5904, 0.3356, 0.6354, 0.4021, 0.2931,\n",
            "          0.3338, 0.1557, 0.2710]],\n",
            "\n",
            "        [[0.2919, 0.5685, 0.6518, 0.3763, 0.3166, 0.6822, 0.8972, 0.2764,\n",
            "          0.1447, 0.7615, 0.8331],\n",
            "         [0.7971, 0.6434, 0.2233, 0.8754, 0.6528, 0.8882, 0.2526, 0.6465,\n",
            "          0.3638, 0.8992, 0.8096],\n",
            "         [0.3486, 0.3947, 0.6376, 0.5304, 0.2878, 0.0504, 0.4575, 0.6625,\n",
            "          0.0633, 0.2178, 0.6037]],\n",
            "\n",
            "        [[0.1041, 0.1487, 0.8003, 0.1315, 0.4216, 0.9140, 0.7145, 0.7942,\n",
            "          0.8139, 0.3632, 0.2571],\n",
            "         [0.6481, 0.9835, 0.6090, 0.9231, 0.7174, 0.9970, 0.8339, 0.4210,\n",
            "          0.4330, 0.1891, 0.9085],\n",
            "         [0.7422, 0.6811, 0.7390, 0.9636, 0.9029, 0.3227, 0.5652, 0.5968,\n",
            "          0.6973, 0.5250, 0.7442]],\n",
            "\n",
            "        [[0.9920, 0.1338, 0.8982, 0.8216, 0.1912, 0.8694, 0.8825, 0.4888,\n",
            "          0.1102, 0.4501, 0.6054],\n",
            "         [0.1521, 0.3003, 0.2084, 0.1000, 0.9504, 0.7451, 0.0210, 0.2899,\n",
            "          0.9604, 0.4887, 0.8372],\n",
            "         [0.2117, 0.3062, 0.1976, 0.2559, 0.1754, 0.2651, 0.2778, 0.5143,\n",
            "          0.3938, 0.2840, 0.0394]],\n",
            "\n",
            "        [[0.1181, 0.8068, 0.6058, 0.6666, 0.4658, 0.7294, 0.6754, 0.7031,\n",
            "          0.2759, 0.4544, 0.2955],\n",
            "         [0.9502, 0.6865, 0.4872, 0.2654, 0.4398, 0.8244, 0.9405, 0.3354,\n",
            "          0.3120, 0.5992, 0.6316],\n",
            "         [0.9304, 0.5429, 0.1541, 0.3989, 0.5399, 0.2359, 0.8554, 0.7529,\n",
            "          0.8933, 0.6343, 0.5560]],\n",
            "\n",
            "        [[0.0620, 0.1782, 0.3091, 0.1632, 0.8224, 0.9028, 0.9379, 0.5768,\n",
            "          0.3614, 0.5325, 0.4993],\n",
            "         [0.0325, 0.4866, 0.5899, 0.6897, 0.0274, 0.3516, 0.1782, 0.5918,\n",
            "          0.6652, 0.8190, 0.1762],\n",
            "         [0.8664, 0.8574, 0.4913, 0.9767, 0.2241, 0.5101, 0.5662, 0.9270,\n",
            "          0.8670, 0.6296, 0.1187]],\n",
            "\n",
            "        [[0.1726, 0.1130, 0.5557, 0.8615, 0.1958, 0.2448, 0.5011, 0.0125,\n",
            "          0.8007, 0.2767, 0.7692],\n",
            "         [0.8848, 0.4000, 0.7896, 0.3310, 0.3207, 0.3759, 0.9081, 0.1737,\n",
            "          0.1151, 0.7134, 0.2992],\n",
            "         [0.4244, 0.7111, 0.1453, 0.3314, 0.3120, 0.7783, 0.7225, 0.6082,\n",
            "          0.7059, 0.1056, 0.5370]],\n",
            "\n",
            "        [[0.7550, 0.5546, 0.4365, 0.0960, 0.6178, 0.8079, 0.3665, 0.0727,\n",
            "          0.2210, 0.4405, 0.9776],\n",
            "         [0.0755, 0.9563, 0.8680, 0.4815, 0.7888, 0.1971, 0.0447, 0.3568,\n",
            "          0.9828, 0.9269, 0.2573],\n",
            "         [0.7453, 0.5993, 0.3121, 0.7987, 0.4141, 0.4525, 0.1241, 0.4474,\n",
            "          0.2225, 0.0410, 0.9050]],\n",
            "\n",
            "        [[0.6399, 0.9265, 0.0110, 0.1540, 0.9814, 0.2710, 0.8613, 0.8981,\n",
            "          0.3264, 0.9822, 0.4149],\n",
            "         [0.2822, 0.8305, 0.9924, 0.7507, 0.3870, 0.1857, 0.7809, 0.4067,\n",
            "          0.6857, 0.0224, 0.2622],\n",
            "         [0.0337, 0.5686, 0.8497, 0.5115, 0.2953, 0.4395, 0.1686, 0.8721,\n",
            "          0.6711, 0.6042, 0.6653]],\n",
            "\n",
            "        [[0.1040, 0.3145, 0.4394, 0.7301, 0.7063, 0.2612, 0.8243, 0.3083,\n",
            "          0.0446, 0.3107, 0.6007],\n",
            "         [0.2124, 0.0894, 0.6569, 0.8794, 0.7924, 0.0923, 0.8735, 0.5740,\n",
            "          0.4645, 0.6184, 0.3314],\n",
            "         [0.9339, 0.3553, 0.0458, 0.9463, 0.1690, 0.6974, 0.7375, 0.3850,\n",
            "          0.6046, 0.6551, 0.7235]],\n",
            "\n",
            "        [[0.6781, 0.1682, 0.0643, 0.0915, 0.0278, 0.9738, 0.7298, 0.1373,\n",
            "          0.6222, 0.5643, 0.5928],\n",
            "         [0.6235, 0.8873, 0.5836, 0.1357, 0.4360, 0.0742, 0.6624, 0.0387,\n",
            "          0.4930, 0.9423, 0.5553],\n",
            "         [0.0377, 0.8691, 0.6113, 0.8875, 0.4527, 0.7734, 0.8638, 0.8279,\n",
            "          0.2863, 0.3551, 0.4460]],\n",
            "\n",
            "        [[0.4658, 0.4930, 0.3152, 0.4465, 0.9114, 0.8616, 0.1064, 0.3135,\n",
            "          0.9946, 0.4188, 0.9516],\n",
            "         [0.6535, 0.5723, 0.9196, 0.6675, 0.1559, 0.9160, 0.7981, 0.6238,\n",
            "          0.1290, 0.6896, 0.7346],\n",
            "         [0.3446, 0.4339, 0.1903, 0.7091, 0.1752, 0.0688, 0.0058, 0.2634,\n",
            "          0.9481, 0.9901, 0.1145]],\n",
            "\n",
            "        [[0.7612, 0.6841, 0.8927, 0.7504, 0.5971, 0.2015, 0.4307, 0.6972,\n",
            "          0.9447, 0.9743, 0.1251],\n",
            "         [0.5029, 0.1688, 0.9522, 0.6596, 0.2151, 0.7974, 0.3174, 0.0428,\n",
            "          0.6521, 0.7395, 0.4165],\n",
            "         [0.5663, 0.3722, 0.0060, 0.2658, 0.7605, 0.8382, 0.6403, 0.8892,\n",
            "          0.4825, 0.8484, 0.7006]],\n",
            "\n",
            "        [[0.7210, 0.9287, 0.4357, 0.4655, 0.7983, 0.3556, 0.7680, 0.7605,\n",
            "          0.5159, 0.5475, 0.5364],\n",
            "         [0.5623, 0.5989, 0.8142, 0.7071, 0.2933, 0.3348, 0.4374, 0.1178,\n",
            "          0.0731, 0.8450, 0.9902],\n",
            "         [0.2190, 0.7722, 0.4602, 0.9331, 0.7620, 0.8964, 0.7930, 0.3549,\n",
            "          0.0735, 0.8281, 0.6011]],\n",
            "\n",
            "        [[0.6609, 0.4891, 0.9435, 0.9727, 0.2104, 0.2910, 0.4828, 0.5845,\n",
            "          0.7140, 0.1845, 0.7812],\n",
            "         [0.9785, 0.0885, 0.4945, 0.7907, 0.9128, 0.8573, 0.1865, 0.3084,\n",
            "          0.4847, 0.2268, 0.1718],\n",
            "         [0.8418, 0.6105, 0.7896, 0.9575, 0.7013, 0.6325, 0.7572, 0.1924,\n",
            "          0.3140, 0.8349, 0.6902]],\n",
            "\n",
            "        [[0.5427, 0.3270, 0.7481, 0.0306, 0.8417, 0.2113, 0.9397, 0.1811,\n",
            "          0.3067, 0.9553, 0.7300],\n",
            "         [0.4355, 0.4040, 0.8856, 0.1834, 0.4182, 0.9031, 0.9909, 0.0549,\n",
            "          0.8104, 0.7508, 0.1187],\n",
            "         [0.5920, 0.7616, 0.2500, 0.8135, 0.5730, 0.5661, 0.2657, 0.3783,\n",
            "          0.2281, 0.9273, 0.5085]],\n",
            "\n",
            "        [[0.6722, 0.6133, 0.3859, 0.1612, 0.0070, 0.3890, 0.4464, 0.3976,\n",
            "          0.3592, 0.7878, 0.2342],\n",
            "         [0.3278, 0.8051, 0.5575, 0.8280, 0.7476, 0.3877, 0.1656, 0.5991,\n",
            "          0.1852, 0.0231, 0.8614],\n",
            "         [0.0245, 0.8384, 0.1849, 0.4565, 0.2058, 0.1504, 0.2484, 0.0217,\n",
            "          0.8408, 0.6502, 0.1295]],\n",
            "\n",
            "        [[0.2033, 0.1964, 0.6010, 0.0231, 0.8890, 0.0458, 0.4604, 0.7112,\n",
            "          0.6476, 0.3617, 0.4134],\n",
            "         [0.2592, 0.0560, 0.2835, 0.8734, 0.6086, 0.5701, 0.4900, 0.0853,\n",
            "          0.7998, 0.6437, 0.4195],\n",
            "         [0.7611, 0.3966, 0.7819, 0.8342, 0.4591, 0.2034, 0.0241, 0.6841,\n",
            "          0.7157, 0.3017, 0.6663]],\n",
            "\n",
            "        [[0.0028, 0.2178, 0.6066, 0.3783, 0.5683, 0.9305, 0.4926, 0.4626,\n",
            "          0.5045, 0.3519, 0.1937],\n",
            "         [0.5507, 0.6338, 0.9721, 0.9213, 0.8531, 0.5404, 0.8985, 0.0597,\n",
            "          0.4535, 0.4363, 0.4221],\n",
            "         [0.3338, 0.2347, 0.4144, 0.1266, 0.0311, 0.3762, 0.3490, 0.4609,\n",
            "          0.3370, 0.4296, 0.0616]]]) torch.Size([21, 3, 11])\n"
          ]
        }
      ]
    },
    {
      "cell_type": "code",
      "source": [
        "random_tensor_3.ndim"
      ],
      "metadata": {
        "colab": {
          "base_uri": "https://localhost:8080/"
        },
        "id": "_cS89WSTvL5C",
        "outputId": "863522f4-1e27-4e79-97c0-c32e3716e7ee"
      },
      "execution_count": null,
      "outputs": [
        {
          "output_type": "execute_result",
          "data": {
            "text/plain": [
              "3"
            ]
          },
          "metadata": {},
          "execution_count": 113
        }
      ]
    },
    {
      "cell_type": "code",
      "source": [
        "random_tensor"
      ],
      "metadata": {
        "colab": {
          "base_uri": "https://localhost:8080/"
        },
        "id": "wlfBp7VovOvl",
        "outputId": "f02ad482-e9b9-4fe9-e3c4-8966c3bcae36"
      },
      "execution_count": null,
      "outputs": [
        {
          "output_type": "execute_result",
          "data": {
            "text/plain": [
              "tensor([0.1023, 0.8577])"
            ]
          },
          "metadata": {},
          "execution_count": 114
        }
      ]
    },
    {
      "cell_type": "code",
      "source": [
        "random_tensor.dtype"
      ],
      "metadata": {
        "colab": {
          "base_uri": "https://localhost:8080/"
        },
        "id": "MQ8V3z9GvVP5",
        "outputId": "60f2f1f8-af91-4cef-82a1-b9980a5e3292"
      },
      "execution_count": null,
      "outputs": [
        {
          "output_type": "execute_result",
          "data": {
            "text/plain": [
              "torch.float32"
            ]
          },
          "metadata": {},
          "execution_count": 115
        }
      ]
    },
    {
      "cell_type": "code",
      "source": [
        "new_rn = torch.rand(size=[2, 2, 2, 2])\n",
        "print(new_rn, new_rn.dtype, new_rn.shape, new_rn.ndim)"
      ],
      "metadata": {
        "colab": {
          "base_uri": "https://localhost:8080/"
        },
        "id": "hWeBY01pvyFD",
        "outputId": "95afc69e-a2de-417e-f10d-bd56339a541e"
      },
      "execution_count": null,
      "outputs": [
        {
          "output_type": "stream",
          "name": "stdout",
          "text": [
            "tensor([[[[0.3133, 0.5229],\n",
            "          [0.9528, 0.9083]],\n",
            "\n",
            "         [[0.2968, 0.3060],\n",
            "          [0.4585, 0.9617]]],\n",
            "\n",
            "\n",
            "        [[[0.4217, 0.5514],\n",
            "          [0.4003, 0.9636]],\n",
            "\n",
            "         [[0.0973, 0.9742],\n",
            "          [0.7709, 0.0359]]]]) torch.float32 torch.Size([2, 2, 2, 2]) 4\n"
          ]
        }
      ]
    },
    {
      "cell_type": "markdown",
      "source": [
        "##Zeros and Ones"
      ],
      "metadata": {
        "id": "02ZZV0DXw-Xg"
      }
    },
    {
      "cell_type": "code",
      "source": [
        "zero_tensor = torch.zeros(size=(2, 2))\n",
        "basic_zero = torch.tensor([[0, 0, 0], [0, 0, 0]])\n",
        "print('zero ->', zero_tensor, 'data_type ->', zero_tensor.dtype)\n",
        "print('zero ->', basic_zero, 'data_type ->', basic_zero.dtype)"
      ],
      "metadata": {
        "colab": {
          "base_uri": "https://localhost:8080/"
        },
        "id": "PbI5YR_XxDDT",
        "outputId": "0886ade0-b88b-41bf-f43c-b3c3d7ba9c6b"
      },
      "execution_count": null,
      "outputs": [
        {
          "output_type": "stream",
          "name": "stdout",
          "text": [
            "zero -> tensor([[0., 0.],\n",
            "        [0., 0.]]) data_type -> torch.float32\n",
            "zero -> tensor([[0, 0, 0],\n",
            "        [0, 0, 0]]) data_type -> torch.int64\n"
          ]
        }
      ]
    },
    {
      "cell_type": "code",
      "source": [
        "zero_2 = torch.zeros((3, 7, 8))\n",
        "zero_2"
      ],
      "metadata": {
        "colab": {
          "base_uri": "https://localhost:8080/"
        },
        "id": "3QafCBp74wyp",
        "outputId": "ff839b26-1970-46f4-8ed3-dffb1deb3d55"
      },
      "execution_count": null,
      "outputs": [
        {
          "output_type": "execute_result",
          "data": {
            "text/plain": [
              "tensor([[[0., 0., 0., 0., 0., 0., 0., 0.],\n",
              "         [0., 0., 0., 0., 0., 0., 0., 0.],\n",
              "         [0., 0., 0., 0., 0., 0., 0., 0.],\n",
              "         [0., 0., 0., 0., 0., 0., 0., 0.],\n",
              "         [0., 0., 0., 0., 0., 0., 0., 0.],\n",
              "         [0., 0., 0., 0., 0., 0., 0., 0.],\n",
              "         [0., 0., 0., 0., 0., 0., 0., 0.]],\n",
              "\n",
              "        [[0., 0., 0., 0., 0., 0., 0., 0.],\n",
              "         [0., 0., 0., 0., 0., 0., 0., 0.],\n",
              "         [0., 0., 0., 0., 0., 0., 0., 0.],\n",
              "         [0., 0., 0., 0., 0., 0., 0., 0.],\n",
              "         [0., 0., 0., 0., 0., 0., 0., 0.],\n",
              "         [0., 0., 0., 0., 0., 0., 0., 0.],\n",
              "         [0., 0., 0., 0., 0., 0., 0., 0.]],\n",
              "\n",
              "        [[0., 0., 0., 0., 0., 0., 0., 0.],\n",
              "         [0., 0., 0., 0., 0., 0., 0., 0.],\n",
              "         [0., 0., 0., 0., 0., 0., 0., 0.],\n",
              "         [0., 0., 0., 0., 0., 0., 0., 0.],\n",
              "         [0., 0., 0., 0., 0., 0., 0., 0.],\n",
              "         [0., 0., 0., 0., 0., 0., 0., 0.],\n",
              "         [0., 0., 0., 0., 0., 0., 0., 0.]]])"
            ]
          },
          "metadata": {},
          "execution_count": 118
        }
      ]
    },
    {
      "cell_type": "code",
      "source": [
        "print(torch.zeros((2, 3, 0)))"
      ],
      "metadata": {
        "colab": {
          "base_uri": "https://localhost:8080/"
        },
        "id": "jjDaKfBE6Ju3",
        "outputId": "342387d6-b42b-4f2b-a415-cf9299e92c75"
      },
      "execution_count": null,
      "outputs": [
        {
          "output_type": "stream",
          "name": "stdout",
          "text": [
            "tensor([], size=(2, 3, 0))\n"
          ]
        }
      ]
    },
    {
      "cell_type": "code",
      "source": [
        "test_tensor = torch.tensor([])"
      ],
      "metadata": {
        "id": "F79Lp1P56QKj"
      },
      "execution_count": null,
      "outputs": []
    },
    {
      "cell_type": "code",
      "source": [
        "test_tensor"
      ],
      "metadata": {
        "colab": {
          "base_uri": "https://localhost:8080/"
        },
        "id": "cmP78sAl6fSr",
        "outputId": "79174721-7032-4b13-f42e-349f95a3dd0e"
      },
      "execution_count": null,
      "outputs": [
        {
          "output_type": "execute_result",
          "data": {
            "text/plain": [
              "tensor([])"
            ]
          },
          "metadata": {},
          "execution_count": 121
        }
      ]
    },
    {
      "cell_type": "code",
      "source": [
        "ones = torch.ones(size=[3, 4], dtype=torch.int64)\n",
        "# creates a single tensor tensor([1.])\n",
        "one_scalar = torch.ones(1)\n",
        "\n",
        "print(ones, ones.dtype, one_scalar, one_scalar.ndim)"
      ],
      "metadata": {
        "colab": {
          "base_uri": "https://localhost:8080/"
        },
        "id": "3GiylUit6gv9",
        "outputId": "b7e56b63-5294-4a60-beaa-f1e959b6f7fc"
      },
      "execution_count": null,
      "outputs": [
        {
          "output_type": "stream",
          "name": "stdout",
          "text": [
            "tensor([[1, 1, 1, 1],\n",
            "        [1, 1, 1, 1],\n",
            "        [1, 1, 1, 1]]) torch.int64 tensor([1.]) 1\n"
          ]
        }
      ]
    },
    {
      "cell_type": "code",
      "source": [
        "one_dim_tensor = torch.tensor(2)\n",
        "# creates a scalar"
      ],
      "metadata": {
        "id": "202kfghS7EiS"
      },
      "execution_count": null,
      "outputs": []
    },
    {
      "cell_type": "code",
      "source": [
        "one_dim_tensor, one_dim_tensor.ndim"
      ],
      "metadata": {
        "colab": {
          "base_uri": "https://localhost:8080/"
        },
        "id": "4MgvuPJA7s8M",
        "outputId": "3b63354e-7f8a-4d22-d793-e4c4cb38f5f7"
      },
      "execution_count": null,
      "outputs": [
        {
          "output_type": "execute_result",
          "data": {
            "text/plain": [
              "(tensor(2), 0)"
            ]
          },
          "metadata": {},
          "execution_count": 124
        }
      ]
    },
    {
      "cell_type": "markdown",
      "source": [
        "## Tensors arange and Tensors like"
      ],
      "metadata": {
        "id": "EFBiibxG-3eo"
      }
    },
    {
      "cell_type": "code",
      "source": [
        "zero_to_five = torch.range(0, 5) # Deprecated\n",
        "zero_to_five"
      ],
      "metadata": {
        "colab": {
          "base_uri": "https://localhost:8080/"
        },
        "id": "MCiuL4Xu_AR8",
        "outputId": "a48cbab2-d740-486a-beb4-6c26e2c19b97"
      },
      "execution_count": null,
      "outputs": [
        {
          "output_type": "stream",
          "name": "stderr",
          "text": [
            "<ipython-input-125-56bc1d1bf171>:1: UserWarning: torch.range is deprecated and will be removed in a future release because its behavior is inconsistent with Python's range builtin. Instead, use torch.arange, which produces values in [start, end).\n",
            "  zero_to_five = torch.range(0, 5) # Deprecated\n"
          ]
        },
        {
          "output_type": "execute_result",
          "data": {
            "text/plain": [
              "tensor([0., 1., 2., 3., 4., 5.])"
            ]
          },
          "metadata": {},
          "execution_count": 125
        }
      ]
    },
    {
      "cell_type": "code",
      "source": [
        "five_to_twenty_five = torch.arange(5, 25, 2)\n",
        "five_to_twenty_five"
      ],
      "metadata": {
        "colab": {
          "base_uri": "https://localhost:8080/"
        },
        "id": "GOMfDC4Y_MK4",
        "outputId": "e8a3c89a-1a6a-4d2d-a28e-01299e9c9737"
      },
      "execution_count": null,
      "outputs": [
        {
          "output_type": "execute_result",
          "data": {
            "text/plain": [
              "tensor([ 5,  7,  9, 11, 13, 15, 17, 19, 21, 23])"
            ]
          },
          "metadata": {},
          "execution_count": 126
        }
      ]
    },
    {
      "cell_type": "code",
      "source": [
        "import numpy as np\n",
        "my_array = np.array([[2, 3, 4], [6, 4, 2]], dtype=np.float64)\n",
        "\n",
        "def convert_np_array_to_tensor(array):\n",
        "\n",
        "  return torch.tensor(array)\n",
        "\n",
        "tensor_from_array = convert_np_array_to_tensor(my_array)\n",
        "tensor_from_array, tensor_from_array.dtype"
      ],
      "metadata": {
        "colab": {
          "base_uri": "https://localhost:8080/"
        },
        "id": "bzj528wu_i3D",
        "outputId": "23998c2f-cbf0-4dd9-dc23-661b283970cc"
      },
      "execution_count": null,
      "outputs": [
        {
          "output_type": "execute_result",
          "data": {
            "text/plain": [
              "(tensor([[2., 3., 4.],\n",
              "         [6., 4., 2.]], dtype=torch.float64),\n",
              " torch.float64)"
            ]
          },
          "metadata": {},
          "execution_count": 127
        }
      ]
    },
    {
      "cell_type": "code",
      "source": [
        "tensor = torch.tensor([])\n",
        "index = list(tensor.shape)\n",
        "tensor, tensor.ndim, tensor.shape, tensor.size(), index"
      ],
      "metadata": {
        "colab": {
          "base_uri": "https://localhost:8080/"
        },
        "id": "9fbmkB3yB17V",
        "outputId": "7a15db11-3b50-4a49-dd5f-45ecd6ee7e0c"
      },
      "execution_count": null,
      "outputs": [
        {
          "output_type": "execute_result",
          "data": {
            "text/plain": [
              "(tensor([]), 1, torch.Size([0]), torch.Size([0]), [0])"
            ]
          },
          "metadata": {},
          "execution_count": 128
        }
      ]
    },
    {
      "cell_type": "code",
      "source": [
        "def build_tensor(size):\n",
        "\n",
        "  size = list(size)\n",
        "  input_range = size[1]\n",
        "  tensor = torch.zeros(size=size)\n",
        "\n",
        "  for n in range(size[0]):\n",
        "    tensor[n] = torch.arange(input_range)\n",
        "\n",
        "  return tensor\n",
        "\n",
        "random = torch.rand([2, 3])\n",
        "custom = build_tensor(random.shape)\n",
        "custom"
      ],
      "metadata": {
        "colab": {
          "base_uri": "https://localhost:8080/"
        },
        "id": "TGiPmeuv_ot6",
        "outputId": "b205962d-b219-4e48-ce4f-21ab6a894012"
      },
      "execution_count": null,
      "outputs": [
        {
          "output_type": "execute_result",
          "data": {
            "text/plain": [
              "tensor([[0., 1., 2.],\n",
              "        [0., 1., 2.]])"
            ]
          },
          "metadata": {},
          "execution_count": 129
        }
      ]
    },
    {
      "cell_type": "code",
      "source": [
        "new_one = torch.ones_like(custom)\n",
        "new_zero = torch.zeros_like(new_one)\n",
        "\n",
        "new_one, new_zero"
      ],
      "metadata": {
        "colab": {
          "base_uri": "https://localhost:8080/"
        },
        "id": "kScmLHxQC3l7",
        "outputId": "12340907-b5ab-42a8-d0a2-bb503f16fcac"
      },
      "execution_count": null,
      "outputs": [
        {
          "output_type": "execute_result",
          "data": {
            "text/plain": [
              "(tensor([[1., 1., 1.],\n",
              "         [1., 1., 1.]]),\n",
              " tensor([[0., 0., 0.],\n",
              "         [0., 0., 0.]]))"
            ]
          },
          "metadata": {},
          "execution_count": 130
        }
      ]
    },
    {
      "cell_type": "markdown",
      "source": [
        "## Tensor data types"
      ],
      "metadata": {
        "id": "Njuzmo3WI4In"
      }
    },
    {
      "cell_type": "code",
      "source": [
        "new_tensor = torch.rand(2, 3)\n",
        "new_tensor, new_tensor.shape, new_tensor.dtype, new_tensor.device"
      ],
      "metadata": {
        "colab": {
          "base_uri": "https://localhost:8080/"
        },
        "id": "21yPdPnpI-8o",
        "outputId": "95a18679-0bba-4129-96aa-1b208a936079"
      },
      "execution_count": null,
      "outputs": [
        {
          "output_type": "execute_result",
          "data": {
            "text/plain": [
              "(tensor([[0.3469, 0.4466, 0.3023],\n",
              "         [0.9922, 0.8988, 0.6786]]),\n",
              " torch.Size([2, 3]),\n",
              " torch.float32,\n",
              " device(type='cpu'))"
            ]
          },
          "metadata": {},
          "execution_count": 131
        }
      ]
    },
    {
      "cell_type": "code",
      "source": [
        "float64_tensor = torch.tensor([[2.3, 4.5]], dtype=torch.double)\n",
        "float64_tensor, float64_tensor.dtype, float64_tensor.device"
      ],
      "metadata": {
        "colab": {
          "base_uri": "https://localhost:8080/"
        },
        "id": "ti6WqKmLJNhX",
        "outputId": "1d296eb0-db35-465a-a0d1-d84911b9077f"
      },
      "execution_count": null,
      "outputs": [
        {
          "output_type": "execute_result",
          "data": {
            "text/plain": [
              "(tensor([[2.3000, 4.5000]], dtype=torch.float64),\n",
              " torch.float64,\n",
              " device(type='cpu'))"
            ]
          },
          "metadata": {},
          "execution_count": 132
        }
      ]
    },
    {
      "cell_type": "code",
      "source": [
        "float_half = torch.ones_like(float64_tensor, dtype=torch.float16)\n",
        "float_half, float_half.dtype, float_half.device"
      ],
      "metadata": {
        "colab": {
          "base_uri": "https://localhost:8080/"
        },
        "id": "cWxHSs5wJ3Qg",
        "outputId": "10ae1838-5265-454b-fcee-9f1bc0e0f978"
      },
      "execution_count": null,
      "outputs": [
        {
          "output_type": "execute_result",
          "data": {
            "text/plain": [
              "(tensor([[1., 1.]], dtype=torch.float16), torch.float16, device(type='cpu'))"
            ]
          },
          "metadata": {},
          "execution_count": 133
        }
      ]
    },
    {
      "cell_type": "code",
      "source": [
        "float_half = torch.ones_like(float64_tensor, dtype=torch.bfloat16)\n",
        "float_half, float_half.dtype, float_half.device"
      ],
      "metadata": {
        "colab": {
          "base_uri": "https://localhost:8080/"
        },
        "id": "vOi__BF4KYcX",
        "outputId": "2f0f8139-4410-4eb3-b3b6-3cb5af687ca4"
      },
      "execution_count": null,
      "outputs": [
        {
          "output_type": "execute_result",
          "data": {
            "text/plain": [
              "(tensor([[1., 1.]], dtype=torch.bfloat16), torch.bfloat16, device(type='cpu'))"
            ]
          },
          "metadata": {},
          "execution_count": 134
        }
      ]
    },
    {
      "cell_type": "code",
      "source": [
        "complex_tensor = torch.rand(4, 6, dtype=torch.complex64)\n",
        "complex_tensor, complex_tensor.dtype, complex_tensor.device"
      ],
      "metadata": {
        "colab": {
          "base_uri": "https://localhost:8080/"
        },
        "id": "SvybUbONKh6G",
        "outputId": "3be2eec4-ff9f-42c2-e65f-014ba60173f4"
      },
      "execution_count": null,
      "outputs": [
        {
          "output_type": "execute_result",
          "data": {
            "text/plain": [
              "(tensor([[0.4615+0.8749j, 0.0040+0.9031j, 0.7141+0.2064j, 0.3616+0.7443j,\n",
              "          0.3703+0.4643j, 0.3628+0.9258j],\n",
              "         [0.5904+0.7396j, 0.1502+0.5978j, 0.4078+0.6864j, 0.2836+0.1270j,\n",
              "          0.6011+0.6571j, 0.7482+0.9723j],\n",
              "         [0.8821+0.4333j, 0.2621+0.1589j, 0.4776+0.6746j, 0.3828+0.0288j,\n",
              "          0.5665+0.8466j, 0.3306+0.9746j],\n",
              "         [0.8418+0.3601j, 0.1551+0.4387j, 0.9361+0.8612j, 0.4033+0.6064j,\n",
              "          0.9151+0.0708j, 0.8645+0.6540j]]),\n",
              " torch.complex64,\n",
              " device(type='cpu'))"
            ]
          },
          "metadata": {},
          "execution_count": 135
        }
      ]
    },
    {
      "cell_type": "code",
      "source": [
        "complex_tensor_gpu = torch.rand(4, 6, dtype=torch.complex64, device=torch.device('cuda'))\n",
        "complex_tensor_gpu, complex_tensor.dtype, complex_tensor_gpu.device"
      ],
      "metadata": {
        "colab": {
          "base_uri": "https://localhost:8080/"
        },
        "id": "35ZYoK27MrgM",
        "outputId": "5ee2c704-df7c-497c-de15-2b384aa9158f"
      },
      "execution_count": null,
      "outputs": [
        {
          "output_type": "execute_result",
          "data": {
            "text/plain": [
              "(tensor([[0.4760+0.6226j, 0.8223+0.2213j, 0.2301+0.4216j, 0.0536+0.2047j,\n",
              "          0.8964+0.7725j, 0.8364+0.3517j],\n",
              "         [0.3610+0.2944j, 0.7125+0.2238j, 0.3155+0.1499j, 0.5772+0.6571j,\n",
              "          0.0274+0.7820j, 0.1361+0.0551j],\n",
              "         [0.6351+0.4308j, 0.4172+0.5694j, 0.9088+0.7046j, 0.9461+0.9338j,\n",
              "          0.2379+0.6276j, 0.5193+0.4485j],\n",
              "         [0.3118+0.3800j, 0.2238+0.7239j, 0.5225+0.5251j, 0.5785+0.2976j,\n",
              "          0.8956+0.5954j, 0.5352+0.8930j]], device='cuda:0'),\n",
              " torch.complex64,\n",
              " device(type='cuda', index=0))"
            ]
          },
          "metadata": {},
          "execution_count": 136
        }
      ]
    },
    {
      "cell_type": "code",
      "source": [
        "torch.device('cuda')"
      ],
      "metadata": {
        "colab": {
          "base_uri": "https://localhost:8080/"
        },
        "id": "jG34Z-oTN0yf",
        "outputId": "32588cd8-fc49-4cc2-e41f-13aec0b6ab84"
      },
      "execution_count": null,
      "outputs": [
        {
          "output_type": "execute_result",
          "data": {
            "text/plain": [
              "device(type='cuda')"
            ]
          },
          "metadata": {},
          "execution_count": 137
        }
      ]
    },
    {
      "cell_type": "code",
      "source": [
        "eight_tensor_signed = torch.tensor([[\n",
        "                                      [2, 1, 4],\n",
        "                                      [3, 5, 6]\n",
        "                                      ],\n",
        "                                      [\n",
        "                                      [2.3, 5, 4],\n",
        "                                      [3.11, 5, 6.1]\n",
        "                                      ]], dtype=torch.int8)\n",
        "eight_tensor_signed, eight_tensor_signed.dtype, torch.ones_like(complex_tensor_gpu)"
      ],
      "metadata": {
        "colab": {
          "base_uri": "https://localhost:8080/"
        },
        "id": "9AzSR3GpRKb-",
        "outputId": "fd617d98-4a0c-4cd9-a8f9-136461da3e5b"
      },
      "execution_count": null,
      "outputs": [
        {
          "output_type": "execute_result",
          "data": {
            "text/plain": [
              "(tensor([[[2, 1, 4],\n",
              "          [3, 5, 6]],\n",
              " \n",
              "         [[2, 5, 4],\n",
              "          [3, 5, 6]]], dtype=torch.int8),\n",
              " torch.int8,\n",
              " tensor([[1.+0.j, 1.+0.j, 1.+0.j, 1.+0.j, 1.+0.j, 1.+0.j],\n",
              "         [1.+0.j, 1.+0.j, 1.+0.j, 1.+0.j, 1.+0.j, 1.+0.j],\n",
              "         [1.+0.j, 1.+0.j, 1.+0.j, 1.+0.j, 1.+0.j, 1.+0.j],\n",
              "         [1.+0.j, 1.+0.j, 1.+0.j, 1.+0.j, 1.+0.j, 1.+0.j]], device='cuda:0'))"
            ]
          },
          "metadata": {},
          "execution_count": 138
        }
      ]
    },
    {
      "cell_type": "code",
      "source": [
        "new_ones = torch.ones((2, 5), dtype=torch.bool)\n",
        "new_ones, new_ones.dtype"
      ],
      "metadata": {
        "colab": {
          "base_uri": "https://localhost:8080/"
        },
        "id": "ZySbipbkSeOV",
        "outputId": "653b414b-864b-4df3-f9b5-2d47cade980b"
      },
      "execution_count": null,
      "outputs": [
        {
          "output_type": "execute_result",
          "data": {
            "text/plain": [
              "(tensor([[True, True, True, True, True],\n",
              "         [True, True, True, True, True]]),\n",
              " torch.bool)"
            ]
          },
          "metadata": {},
          "execution_count": 139
        }
      ]
    },
    {
      "cell_type": "code",
      "source": [
        "new_zeros = torch.zeros((2, 5), dtype=torch.bool)\n",
        "new_zeros, new_zeros.dtype"
      ],
      "metadata": {
        "colab": {
          "base_uri": "https://localhost:8080/"
        },
        "id": "-NFDMzZgS9nK",
        "outputId": "9ac74d53-cd3b-4649-9bbc-cc194bb6a711"
      },
      "execution_count": null,
      "outputs": [
        {
          "output_type": "execute_result",
          "data": {
            "text/plain": [
              "(tensor([[False, False, False, False, False],\n",
              "         [False, False, False, False, False]]),\n",
              " torch.bool)"
            ]
          },
          "metadata": {},
          "execution_count": 140
        }
      ]
    },
    {
      "cell_type": "code",
      "source": [
        "float_16_tensor = torch.tensor([33., 32., 0., 0.], dtype=torch.float16)\n",
        "float_16_tensor"
      ],
      "metadata": {
        "colab": {
          "base_uri": "https://localhost:8080/"
        },
        "id": "BopAk84jTGfe",
        "outputId": "ba82294a-3591-4261-e606-7089402e484b"
      },
      "execution_count": null,
      "outputs": [
        {
          "output_type": "execute_result",
          "data": {
            "text/plain": [
              "tensor([33., 32.,  0.,  0.], dtype=torch.float16)"
            ]
          },
          "metadata": {},
          "execution_count": 141
        }
      ]
    },
    {
      "cell_type": "code",
      "source": [
        "float_128_tensor = float_16_tensor.type(torch.complex128)\n",
        "float_128_tensor, float_128_tensor.dtype, float_128_tensor.requires_grad"
      ],
      "metadata": {
        "colab": {
          "base_uri": "https://localhost:8080/"
        },
        "id": "tkGN5S5yTfrY",
        "outputId": "e416068b-218d-4603-daf6-53d322bbaaea"
      },
      "execution_count": null,
      "outputs": [
        {
          "output_type": "execute_result",
          "data": {
            "text/plain": [
              "(tensor([33.+0.j, 32.+0.j,  0.+0.j,  0.+0.j], dtype=torch.complex128),\n",
              " torch.complex128,\n",
              " False)"
            ]
          },
          "metadata": {},
          "execution_count": 142
        }
      ]
    },
    {
      "cell_type": "code",
      "source": [
        "torch_product = torch.mul(float_16_tensor, float_128_tensor)\n",
        "torch_product, float_16_tensor.dtype, float_128_tensor.dtype"
      ],
      "metadata": {
        "colab": {
          "base_uri": "https://localhost:8080/"
        },
        "id": "VyTpxz-LVUnF",
        "outputId": "64132474-0bca-46d0-8879-9b255bebfa4e"
      },
      "execution_count": null,
      "outputs": [
        {
          "output_type": "execute_result",
          "data": {
            "text/plain": [
              "(tensor([1089.+0.j, 1024.+0.j,    0.+0.j,    0.+0.j], dtype=torch.complex128),\n",
              " torch.float16,\n",
              " torch.complex128)"
            ]
          },
          "metadata": {},
          "execution_count": 143
        }
      ]
    },
    {
      "cell_type": "code",
      "source": [
        "torch_product + 10"
      ],
      "metadata": {
        "colab": {
          "base_uri": "https://localhost:8080/"
        },
        "id": "eoViSNM2V4kF",
        "outputId": "56363596-5ff2-4bc9-d771-e3e0928a4beb"
      },
      "execution_count": null,
      "outputs": [
        {
          "output_type": "execute_result",
          "data": {
            "text/plain": [
              "tensor([1099.+0.j, 1034.+0.j,   10.+0.j,   10.+0.j], dtype=torch.complex128)"
            ]
          },
          "metadata": {},
          "execution_count": 144
        }
      ]
    },
    {
      "cell_type": "code",
      "source": [
        "torch_product -10"
      ],
      "metadata": {
        "colab": {
          "base_uri": "https://localhost:8080/"
        },
        "id": "kukQ2iBvWM33",
        "outputId": "1e0826fb-b8e6-4344-936c-510b47746b11"
      },
      "execution_count": null,
      "outputs": [
        {
          "output_type": "execute_result",
          "data": {
            "text/plain": [
              "tensor([1079.+0.j, 1014.+0.j,  -10.+0.j,  -10.+0.j], dtype=torch.complex128)"
            ]
          },
          "metadata": {},
          "execution_count": 145
        }
      ]
    },
    {
      "cell_type": "code",
      "source": [
        "torch_product = torch_product.type(torch.half)\n",
        "torch_product"
      ],
      "metadata": {
        "colab": {
          "base_uri": "https://localhost:8080/"
        },
        "id": "VeP1Vf55WSGX",
        "outputId": "16a170a9-2524-47d0-9d21-88358cf81a86"
      },
      "execution_count": null,
      "outputs": [
        {
          "output_type": "execute_result",
          "data": {
            "text/plain": [
              "tensor([1089., 1024.,    0.,    0.], dtype=torch.float16)"
            ]
          },
          "metadata": {},
          "execution_count": 146
        }
      ]
    },
    {
      "cell_type": "code",
      "source": [
        "torch_product.divide(2)"
      ],
      "metadata": {
        "colab": {
          "base_uri": "https://localhost:8080/"
        },
        "id": "vqwaaXmOWc0I",
        "outputId": "1a4b6025-77ac-4f1b-daa6-f913effefda0"
      },
      "execution_count": null,
      "outputs": [
        {
          "output_type": "execute_result",
          "data": {
            "text/plain": [
              "tensor([544.5000, 512.0000,   0.0000,   0.0000], dtype=torch.float16)"
            ]
          },
          "metadata": {},
          "execution_count": 147
        }
      ]
    },
    {
      "cell_type": "code",
      "source": [
        "torch_product.device"
      ],
      "metadata": {
        "colab": {
          "base_uri": "https://localhost:8080/"
        },
        "id": "LNn15fezWvhU",
        "outputId": "09adb691-421e-474c-ba89-902865d6ec99"
      },
      "execution_count": null,
      "outputs": [
        {
          "output_type": "execute_result",
          "data": {
            "text/plain": [
              "device(type='cpu')"
            ]
          },
          "metadata": {},
          "execution_count": 148
        }
      ]
    },
    {
      "cell_type": "code",
      "source": [
        "my_tensor = torch.rand(4, 5, 6)\n",
        "ones = torch.ones_like(my_tensor)\n",
        "my_tensor, ones, my_tensor * ones"
      ],
      "metadata": {
        "colab": {
          "base_uri": "https://localhost:8080/"
        },
        "id": "MBt7luiwW6Am",
        "outputId": "617c1027-f672-431c-bb84-02cb7ef99e80"
      },
      "execution_count": null,
      "outputs": [
        {
          "output_type": "execute_result",
          "data": {
            "text/plain": [
              "(tensor([[[0.3234, 0.6943, 0.5418, 0.2435, 0.0863, 0.6528],\n",
              "          [0.0840, 0.7803, 0.9182, 0.6163, 0.5303, 0.8690],\n",
              "          [0.0389, 0.1212, 0.6689, 0.5460, 0.5845, 0.5513],\n",
              "          [0.5520, 0.6586, 0.2890, 0.1019, 0.2441, 0.5902],\n",
              "          [0.4711, 0.9119, 0.5889, 0.7047, 0.0602, 0.8015]],\n",
              " \n",
              "         [[0.6178, 0.0451, 0.2953, 0.7888, 0.1085, 0.0360],\n",
              "          [0.6698, 0.0176, 0.2859, 0.1447, 0.2998, 0.0241],\n",
              "          [0.5734, 0.8843, 0.1747, 0.8313, 0.8182, 0.2722],\n",
              "          [0.2432, 0.6507, 0.5836, 0.7596, 0.4519, 0.6967],\n",
              "          [0.8034, 0.5934, 0.0121, 0.3227, 0.0334, 0.3003]],\n",
              " \n",
              "         [[0.6092, 0.5228, 0.2484, 0.4157, 0.4283, 0.2944],\n",
              "          [0.3892, 0.5915, 0.9886, 0.6818, 0.2134, 0.3478],\n",
              "          [0.4244, 0.3566, 0.3413, 0.4493, 0.0347, 0.3706],\n",
              "          [0.8864, 0.1104, 0.0641, 0.7306, 0.5409, 0.6209],\n",
              "          [0.3157, 0.0175, 0.5929, 0.4744, 0.4869, 0.1919]],\n",
              " \n",
              "         [[0.2867, 0.4977, 0.7904, 0.9860, 0.9478, 0.6959],\n",
              "          [0.1114, 0.7770, 0.3100, 0.5857, 0.5076, 0.1815],\n",
              "          [0.7115, 0.1325, 0.5347, 0.7083, 0.9980, 0.0584],\n",
              "          [0.3623, 0.1627, 0.4115, 0.3167, 0.1974, 0.1117],\n",
              "          [0.6115, 0.9365, 0.2412, 0.3401, 0.2236, 0.6474]]]),\n",
              " tensor([[[1., 1., 1., 1., 1., 1.],\n",
              "          [1., 1., 1., 1., 1., 1.],\n",
              "          [1., 1., 1., 1., 1., 1.],\n",
              "          [1., 1., 1., 1., 1., 1.],\n",
              "          [1., 1., 1., 1., 1., 1.]],\n",
              " \n",
              "         [[1., 1., 1., 1., 1., 1.],\n",
              "          [1., 1., 1., 1., 1., 1.],\n",
              "          [1., 1., 1., 1., 1., 1.],\n",
              "          [1., 1., 1., 1., 1., 1.],\n",
              "          [1., 1., 1., 1., 1., 1.]],\n",
              " \n",
              "         [[1., 1., 1., 1., 1., 1.],\n",
              "          [1., 1., 1., 1., 1., 1.],\n",
              "          [1., 1., 1., 1., 1., 1.],\n",
              "          [1., 1., 1., 1., 1., 1.],\n",
              "          [1., 1., 1., 1., 1., 1.]],\n",
              " \n",
              "         [[1., 1., 1., 1., 1., 1.],\n",
              "          [1., 1., 1., 1., 1., 1.],\n",
              "          [1., 1., 1., 1., 1., 1.],\n",
              "          [1., 1., 1., 1., 1., 1.],\n",
              "          [1., 1., 1., 1., 1., 1.]]]),\n",
              " tensor([[[0.3234, 0.6943, 0.5418, 0.2435, 0.0863, 0.6528],\n",
              "          [0.0840, 0.7803, 0.9182, 0.6163, 0.5303, 0.8690],\n",
              "          [0.0389, 0.1212, 0.6689, 0.5460, 0.5845, 0.5513],\n",
              "          [0.5520, 0.6586, 0.2890, 0.1019, 0.2441, 0.5902],\n",
              "          [0.4711, 0.9119, 0.5889, 0.7047, 0.0602, 0.8015]],\n",
              " \n",
              "         [[0.6178, 0.0451, 0.2953, 0.7888, 0.1085, 0.0360],\n",
              "          [0.6698, 0.0176, 0.2859, 0.1447, 0.2998, 0.0241],\n",
              "          [0.5734, 0.8843, 0.1747, 0.8313, 0.8182, 0.2722],\n",
              "          [0.2432, 0.6507, 0.5836, 0.7596, 0.4519, 0.6967],\n",
              "          [0.8034, 0.5934, 0.0121, 0.3227, 0.0334, 0.3003]],\n",
              " \n",
              "         [[0.6092, 0.5228, 0.2484, 0.4157, 0.4283, 0.2944],\n",
              "          [0.3892, 0.5915, 0.9886, 0.6818, 0.2134, 0.3478],\n",
              "          [0.4244, 0.3566, 0.3413, 0.4493, 0.0347, 0.3706],\n",
              "          [0.8864, 0.1104, 0.0641, 0.7306, 0.5409, 0.6209],\n",
              "          [0.3157, 0.0175, 0.5929, 0.4744, 0.4869, 0.1919]],\n",
              " \n",
              "         [[0.2867, 0.4977, 0.7904, 0.9860, 0.9478, 0.6959],\n",
              "          [0.1114, 0.7770, 0.3100, 0.5857, 0.5076, 0.1815],\n",
              "          [0.7115, 0.1325, 0.5347, 0.7083, 0.9980, 0.0584],\n",
              "          [0.3623, 0.1627, 0.4115, 0.3167, 0.1974, 0.1117],\n",
              "          [0.6115, 0.9365, 0.2412, 0.3401, 0.2236, 0.6474]]]))"
            ]
          },
          "metadata": {},
          "execution_count": 149
        }
      ]
    },
    {
      "cell_type": "markdown",
      "source": [
        "## Tensor Multipilcation"
      ],
      "metadata": {
        "id": "3tnk-LmiRgct"
      }
    },
    {
      "cell_type": "code",
      "source": [
        "prd = my_tensor * ones\n",
        "prd\n",
        "# assert prd == my_tensor, 'Not what I expected'"
      ],
      "metadata": {
        "colab": {
          "base_uri": "https://localhost:8080/"
        },
        "id": "HO_QekhAXod0",
        "outputId": "2c2e21d2-9006-4b55-9dba-08888eee8cc4"
      },
      "execution_count": null,
      "outputs": [
        {
          "output_type": "execute_result",
          "data": {
            "text/plain": [
              "tensor([[[0.3234, 0.6943, 0.5418, 0.2435, 0.0863, 0.6528],\n",
              "         [0.0840, 0.7803, 0.9182, 0.6163, 0.5303, 0.8690],\n",
              "         [0.0389, 0.1212, 0.6689, 0.5460, 0.5845, 0.5513],\n",
              "         [0.5520, 0.6586, 0.2890, 0.1019, 0.2441, 0.5902],\n",
              "         [0.4711, 0.9119, 0.5889, 0.7047, 0.0602, 0.8015]],\n",
              "\n",
              "        [[0.6178, 0.0451, 0.2953, 0.7888, 0.1085, 0.0360],\n",
              "         [0.6698, 0.0176, 0.2859, 0.1447, 0.2998, 0.0241],\n",
              "         [0.5734, 0.8843, 0.1747, 0.8313, 0.8182, 0.2722],\n",
              "         [0.2432, 0.6507, 0.5836, 0.7596, 0.4519, 0.6967],\n",
              "         [0.8034, 0.5934, 0.0121, 0.3227, 0.0334, 0.3003]],\n",
              "\n",
              "        [[0.6092, 0.5228, 0.2484, 0.4157, 0.4283, 0.2944],\n",
              "         [0.3892, 0.5915, 0.9886, 0.6818, 0.2134, 0.3478],\n",
              "         [0.4244, 0.3566, 0.3413, 0.4493, 0.0347, 0.3706],\n",
              "         [0.8864, 0.1104, 0.0641, 0.7306, 0.5409, 0.6209],\n",
              "         [0.3157, 0.0175, 0.5929, 0.4744, 0.4869, 0.1919]],\n",
              "\n",
              "        [[0.2867, 0.4977, 0.7904, 0.9860, 0.9478, 0.6959],\n",
              "         [0.1114, 0.7770, 0.3100, 0.5857, 0.5076, 0.1815],\n",
              "         [0.7115, 0.1325, 0.5347, 0.7083, 0.9980, 0.0584],\n",
              "         [0.3623, 0.1627, 0.4115, 0.3167, 0.1974, 0.1117],\n",
              "         [0.6115, 0.9365, 0.2412, 0.3401, 0.2236, 0.6474]]])"
            ]
          },
          "metadata": {},
          "execution_count": 150
        }
      ]
    },
    {
      "cell_type": "code",
      "source": [
        "zeros = torch.zeros_like(my_tensor)\n",
        "zeros * my_tensor"
      ],
      "metadata": {
        "colab": {
          "base_uri": "https://localhost:8080/"
        },
        "id": "Jt3lirnRYGtv",
        "outputId": "1c8735e2-2a0f-4ff5-efc4-07b31b74bd45"
      },
      "execution_count": null,
      "outputs": [
        {
          "output_type": "execute_result",
          "data": {
            "text/plain": [
              "tensor([[[0., 0., 0., 0., 0., 0.],\n",
              "         [0., 0., 0., 0., 0., 0.],\n",
              "         [0., 0., 0., 0., 0., 0.],\n",
              "         [0., 0., 0., 0., 0., 0.],\n",
              "         [0., 0., 0., 0., 0., 0.]],\n",
              "\n",
              "        [[0., 0., 0., 0., 0., 0.],\n",
              "         [0., 0., 0., 0., 0., 0.],\n",
              "         [0., 0., 0., 0., 0., 0.],\n",
              "         [0., 0., 0., 0., 0., 0.],\n",
              "         [0., 0., 0., 0., 0., 0.]],\n",
              "\n",
              "        [[0., 0., 0., 0., 0., 0.],\n",
              "         [0., 0., 0., 0., 0., 0.],\n",
              "         [0., 0., 0., 0., 0., 0.],\n",
              "         [0., 0., 0., 0., 0., 0.],\n",
              "         [0., 0., 0., 0., 0., 0.]],\n",
              "\n",
              "        [[0., 0., 0., 0., 0., 0.],\n",
              "         [0., 0., 0., 0., 0., 0.],\n",
              "         [0., 0., 0., 0., 0., 0.],\n",
              "         [0., 0., 0., 0., 0., 0.],\n",
              "         [0., 0., 0., 0., 0., 0.]]])"
            ]
          },
          "metadata": {},
          "execution_count": 151
        }
      ]
    },
    {
      "cell_type": "code",
      "source": [
        "new_tensor = torch.rand(list(my_tensor.shape))"
      ],
      "metadata": {
        "id": "6qjC7VfAY82L"
      },
      "execution_count": null,
      "outputs": []
    },
    {
      "cell_type": "code",
      "source": [
        "new_tensor"
      ],
      "metadata": {
        "colab": {
          "base_uri": "https://localhost:8080/"
        },
        "id": "D_wqHWr_ZJz1",
        "outputId": "38146aa6-a4f8-47b4-efdc-cd09cabb3b5a"
      },
      "execution_count": null,
      "outputs": [
        {
          "output_type": "execute_result",
          "data": {
            "text/plain": [
              "tensor([[[0.2059, 0.8166, 0.7151, 0.7288, 0.3289, 0.2491],\n",
              "         [0.7174, 0.6440, 0.4636, 0.7188, 0.1335, 0.1584],\n",
              "         [0.2272, 0.4985, 0.5132, 0.1942, 0.5148, 0.2661],\n",
              "         [0.3198, 0.2519, 0.7603, 0.8701, 0.5646, 0.3593],\n",
              "         [0.4978, 0.8997, 0.3544, 0.1346, 0.4657, 0.0423]],\n",
              "\n",
              "        [[0.5018, 0.6995, 0.0862, 0.2878, 0.3554, 0.1843],\n",
              "         [0.7668, 0.5241, 0.6118, 0.6440, 0.5955, 0.1189],\n",
              "         [0.4538, 0.4724, 0.7777, 0.4774, 0.4376, 0.5469],\n",
              "         [0.8766, 0.1268, 0.0511, 0.5755, 0.6696, 0.3394],\n",
              "         [0.5215, 0.9932, 0.1281, 0.8494, 0.2909, 0.4085]],\n",
              "\n",
              "        [[0.2192, 0.7642, 0.0166, 0.9381, 0.4788, 0.5422],\n",
              "         [0.2098, 0.5831, 0.6405, 0.5703, 0.7584, 0.1381],\n",
              "         [0.5228, 0.2690, 0.4896, 0.3828, 0.0841, 0.7823],\n",
              "         [0.6997, 0.0432, 0.6333, 0.0785, 0.3666, 0.9074],\n",
              "         [0.6823, 0.8223, 0.5385, 0.8934, 0.7453, 0.3662]],\n",
              "\n",
              "        [[0.3983, 0.7730, 0.4459, 0.9204, 0.0018, 0.4389],\n",
              "         [0.6808, 0.2928, 0.2825, 0.3044, 0.7145, 0.8888],\n",
              "         [0.1253, 0.3051, 0.5641, 0.9182, 0.5875, 0.3030],\n",
              "         [0.5835, 0.6546, 0.5927, 0.8541, 0.7732, 0.3721],\n",
              "         [0.2331, 0.3728, 0.2979, 0.0860, 0.6486, 0.4352]]])"
            ]
          },
          "metadata": {},
          "execution_count": 153
        }
      ]
    },
    {
      "cell_type": "code",
      "source": [
        "one = torch.tensor([0., 0.], dtype=torch.bool)\n",
        "two = torch.tensor([5., 6.])\n",
        "one, two, one * two"
      ],
      "metadata": {
        "colab": {
          "base_uri": "https://localhost:8080/"
        },
        "id": "V_sMIVo_ZMKT",
        "outputId": "7b75d8b8-e08d-4f0b-f0ee-4b22f8487b73"
      },
      "execution_count": null,
      "outputs": [
        {
          "output_type": "execute_result",
          "data": {
            "text/plain": [
              "(tensor([False, False]), tensor([5., 6.]), tensor([0., 0.]))"
            ]
          },
          "metadata": {},
          "execution_count": 154
        }
      ]
    },
    {
      "cell_type": "code",
      "source": [
        "scalar = torch.tensor(3)\n",
        "scalar"
      ],
      "metadata": {
        "id": "pHEhEg1EZfs0",
        "colab": {
          "base_uri": "https://localhost:8080/"
        },
        "outputId": "5ec83b81-e0d2-41b8-c9fa-61c06853e635"
      },
      "execution_count": null,
      "outputs": [
        {
          "output_type": "execute_result",
          "data": {
            "text/plain": [
              "tensor(3)"
            ]
          },
          "metadata": {},
          "execution_count": 155
        }
      ]
    },
    {
      "cell_type": "code",
      "source": [
        "test_tensor = torch.rand(2, 3, dtype=torch.float64)\n",
        "test_tensor"
      ],
      "metadata": {
        "colab": {
          "base_uri": "https://localhost:8080/"
        },
        "id": "DNtTktOaQpSU",
        "outputId": "a833a7cb-6d7f-4468-f161-57e684c6bcef"
      },
      "execution_count": null,
      "outputs": [
        {
          "output_type": "execute_result",
          "data": {
            "text/plain": [
              "tensor([[0.4669, 0.5975, 0.1979],\n",
              "        [0.7964, 0.4051, 0.8858]], dtype=torch.float64)"
            ]
          },
          "metadata": {},
          "execution_count": 156
        }
      ]
    },
    {
      "cell_type": "code",
      "source": [
        "scalar * test_tensor"
      ],
      "metadata": {
        "colab": {
          "base_uri": "https://localhost:8080/"
        },
        "id": "UZpXk2YhQ3vf",
        "outputId": "e84e6351-4d33-4864-821e-c4d751c31629"
      },
      "execution_count": null,
      "outputs": [
        {
          "output_type": "execute_result",
          "data": {
            "text/plain": [
              "tensor([[1.4006, 1.7924, 0.5937],\n",
              "        [2.3892, 1.2152, 2.6575]], dtype=torch.float64)"
            ]
          },
          "metadata": {},
          "execution_count": 157
        }
      ]
    },
    {
      "cell_type": "code",
      "source": [
        "test_tensor = torch.ones_like(test_tensor)\n",
        "test_tensor, scalar * test_tensor"
      ],
      "metadata": {
        "colab": {
          "base_uri": "https://localhost:8080/"
        },
        "id": "8uoUS_eeRHBT",
        "outputId": "9d8b1cab-58e0-491c-e644-cae56eeaf441"
      },
      "execution_count": null,
      "outputs": [
        {
          "output_type": "execute_result",
          "data": {
            "text/plain": [
              "(tensor([[1., 1., 1.],\n",
              "         [1., 1., 1.]], dtype=torch.float64),\n",
              " tensor([[3., 3., 3.],\n",
              "         [3., 3., 3.]], dtype=torch.float64))"
            ]
          },
          "metadata": {},
          "execution_count": 158
        }
      ]
    },
    {
      "cell_type": "markdown",
      "source": [
        "### Tensor Multipilcation (Element-wise)"
      ],
      "metadata": {
        "id": "zFoKXBuHnnP2"
      }
    },
    {
      "cell_type": "code",
      "source": [
        "%%time\n",
        "tensor_1 = torch.rand(3, 5)\n",
        "tensor_2 = torch.rand(2, 4)\n",
        "tensor_1, tensor_2"
      ],
      "metadata": {
        "id": "s4oWTbslSE6e",
        "colab": {
          "base_uri": "https://localhost:8080/"
        },
        "outputId": "cf3c1da6-bb04-454c-8671-1e68bc6ba647"
      },
      "execution_count": null,
      "outputs": [
        {
          "output_type": "stream",
          "name": "stdout",
          "text": [
            "CPU times: user 396 µs, sys: 1.79 ms, total: 2.19 ms\n",
            "Wall time: 27.6 ms\n"
          ]
        },
        {
          "output_type": "execute_result",
          "data": {
            "text/plain": [
              "(tensor([[0.4145, 0.5167, 0.6690, 0.8338, 0.9729],\n",
              "         [0.9897, 0.5788, 0.4116, 0.6187, 0.8709],\n",
              "         [0.0424, 0.9873, 0.4666, 0.8853, 0.2595]]),\n",
              " tensor([[0.2972, 0.7827, 0.5899, 0.9354],\n",
              "         [0.9360, 0.4438, 0.3866, 0.2527]]))"
            ]
          },
          "metadata": {},
          "execution_count": 3
        }
      ]
    },
    {
      "cell_type": "code",
      "source": [
        "%%time\n",
        "tensor_1 * torch.tensor(2)"
      ],
      "metadata": {
        "colab": {
          "base_uri": "https://localhost:8080/"
        },
        "id": "i2vZ2XEUoeOm",
        "outputId": "24b6694e-87a8-4c2d-e660-4065d0f13ff6"
      },
      "execution_count": null,
      "outputs": [
        {
          "output_type": "stream",
          "name": "stdout",
          "text": [
            "CPU times: user 836 µs, sys: 0 ns, total: 836 µs\n",
            "Wall time: 1.02 ms\n"
          ]
        },
        {
          "output_type": "execute_result",
          "data": {
            "text/plain": [
              "tensor([[0.8290, 1.0334, 1.3380, 1.6676, 1.9459],\n",
              "        [1.9794, 1.1576, 0.8232, 1.2373, 1.7418],\n",
              "        [0.0848, 1.9747, 0.9332, 1.7707, 0.5190]])"
            ]
          },
          "metadata": {},
          "execution_count": 5
        }
      ]
    },
    {
      "cell_type": "code",
      "source": [
        "torch.tensor(2).item()"
      ],
      "metadata": {
        "colab": {
          "base_uri": "https://localhost:8080/"
        },
        "id": "SR3Gp3vD0C_i",
        "outputId": "7eb9d63b-f8a7-454c-b0bf-b03143740c47"
      },
      "execution_count": null,
      "outputs": [
        {
          "output_type": "execute_result",
          "data": {
            "text/plain": [
              "2"
            ]
          },
          "metadata": {},
          "execution_count": 9
        }
      ]
    },
    {
      "cell_type": "code",
      "source": [
        "%%time\n",
        "torch.mul(tensor_1, torch.tensor(2))"
      ],
      "metadata": {
        "colab": {
          "base_uri": "https://localhost:8080/"
        },
        "id": "WQpKKj41onGe",
        "outputId": "c68cbba9-11cc-49dc-ca41-f9f13127483d"
      },
      "execution_count": null,
      "outputs": [
        {
          "output_type": "stream",
          "name": "stdout",
          "text": [
            "CPU times: user 496 µs, sys: 0 ns, total: 496 µs\n",
            "Wall time: 389 µs\n"
          ]
        },
        {
          "output_type": "execute_result",
          "data": {
            "text/plain": [
              "tensor([[0.6083, 0.5975, 1.5675, 0.2653, 1.9504],\n",
              "        [1.8410, 1.5157, 0.8377, 1.5304, 0.9477],\n",
              "        [0.0769, 1.1033, 0.0369, 0.2127, 1.5816]])"
            ]
          },
          "metadata": {},
          "execution_count": 161
        }
      ]
    },
    {
      "cell_type": "code",
      "source": [
        "%%time\n",
        "torch.rand(2, 12) * torch.tensor(33)"
      ],
      "metadata": {
        "colab": {
          "base_uri": "https://localhost:8080/"
        },
        "id": "lAQkTmayovvJ",
        "outputId": "1eef8cfa-4131-40a9-bd66-29962ad90655"
      },
      "execution_count": null,
      "outputs": [
        {
          "output_type": "stream",
          "name": "stdout",
          "text": [
            "CPU times: user 1.11 ms, sys: 0 ns, total: 1.11 ms\n",
            "Wall time: 1.13 ms\n"
          ]
        },
        {
          "output_type": "execute_result",
          "data": {
            "text/plain": [
              "tensor([[21.9190, 17.5076, 26.0585, 15.3886,  4.1364, 31.4186, 11.6925, 25.9084,\n",
              "         31.9482,  8.7306, 32.7608, 13.2136],\n",
              "        [29.8148, 22.3713, 28.6131, 17.6481, 11.5470, 16.2106,  3.1269, 20.5407,\n",
              "         31.6644, 30.0398,  4.3947, 25.0345]])"
            ]
          },
          "metadata": {},
          "execution_count": 162
        }
      ]
    },
    {
      "cell_type": "code",
      "source": [
        "%%time\n",
        "torch.mul(torch.rand(2, 12), torch.tensor(33))"
      ],
      "metadata": {
        "colab": {
          "base_uri": "https://localhost:8080/"
        },
        "id": "AvZgY507pAeS",
        "outputId": "866d7089-cab3-4d69-e81e-6f187fddbaf6"
      },
      "execution_count": null,
      "outputs": [
        {
          "output_type": "stream",
          "name": "stdout",
          "text": [
            "CPU times: user 940 µs, sys: 0 ns, total: 940 µs\n",
            "Wall time: 897 µs\n"
          ]
        },
        {
          "output_type": "execute_result",
          "data": {
            "text/plain": [
              "tensor([[ 3.5309, 16.2808, 32.6614, 32.3542, 29.5044, 15.5081, 19.9080,  0.8257,\n",
              "         18.4309,  8.0749, 11.6826,  7.2572],\n",
              "        [14.9721, 23.7253,  1.7154,  5.6716, 29.5928, 15.1006, 24.3449, 20.8694,\n",
              "          6.4289,  0.7993, 27.2143, 24.4847]])"
            ]
          },
          "metadata": {},
          "execution_count": 164
        }
      ]
    },
    {
      "cell_type": "code",
      "source": [
        "tensor_1 = torch.rand(size=(4, 7), dtype=torch.float32)\n",
        "tensor_2 = torch.rand(size=(4, 7))\n",
        "tensor_1, tensor_2"
      ],
      "metadata": {
        "colab": {
          "base_uri": "https://localhost:8080/"
        },
        "id": "mDB8K95jpHv6",
        "outputId": "548fdb26-2a5c-49e0-d5b4-84ba792ca068"
      },
      "execution_count": null,
      "outputs": [
        {
          "output_type": "execute_result",
          "data": {
            "text/plain": [
              "(tensor([[0.8078, 0.8859, 0.0250, 0.2911, 0.5541, 0.7143, 0.8717],\n",
              "         [0.0215, 0.4289, 0.7971, 0.9714, 0.9511, 0.2420, 0.3203],\n",
              "         [0.1786, 0.1712, 0.2196, 0.5974, 0.6805, 0.0940, 0.9199],\n",
              "         [0.7488, 0.6560, 0.5169, 0.6928, 0.6396, 0.9322, 0.0729]]),\n",
              " tensor([[0.5610, 0.0389, 0.0172, 0.6395, 0.7046, 0.0860, 0.4377],\n",
              "         [0.0891, 0.3409, 0.7961, 0.7285, 0.3183, 0.1105, 0.2170],\n",
              "         [0.7292, 0.6331, 0.3150, 0.1028, 0.6603, 0.3442, 0.2880],\n",
              "         [0.7552, 0.7045, 0.3818, 0.4569, 0.6030, 0.3700, 0.8328]]))"
            ]
          },
          "metadata": {},
          "execution_count": 165
        }
      ]
    },
    {
      "cell_type": "code",
      "source": [
        "tensor_1 * tensor_2"
      ],
      "metadata": {
        "colab": {
          "base_uri": "https://localhost:8080/"
        },
        "id": "s09lxK83pvOB",
        "outputId": "d400b26c-834b-43d9-800c-f07309c9ddd9"
      },
      "execution_count": null,
      "outputs": [
        {
          "output_type": "execute_result",
          "data": {
            "text/plain": [
              "tensor([[4.5319e-01, 3.4492e-02, 4.2853e-04, 1.8616e-01, 3.9040e-01, 6.1448e-02,\n",
              "         3.8155e-01],\n",
              "        [1.9179e-03, 1.4622e-01, 6.3462e-01, 7.0772e-01, 3.0269e-01, 2.6746e-02,\n",
              "         6.9495e-02],\n",
              "        [1.3027e-01, 1.0840e-01, 6.9169e-02, 6.1446e-02, 4.4932e-01, 3.2364e-02,\n",
              "         2.6491e-01],\n",
              "        [5.6551e-01, 4.6214e-01, 1.9736e-01, 3.1655e-01, 3.8569e-01, 3.4488e-01,\n",
              "         6.0741e-02]])"
            ]
          },
          "metadata": {},
          "execution_count": 166
        }
      ]
    },
    {
      "cell_type": "code",
      "source": [
        "simple_tensor_1 = torch.tensor([[2, 1], [3, 2]], dtype=torch.int)\n",
        "simple_tensor_2 = torch.tensor([[3, 3], [1, 4]], dtype=torch.int)\n",
        "simple_tensor_1, simple_tensor_2, torch.mul(simple_tensor_1, simple_tensor_2)"
      ],
      "metadata": {
        "colab": {
          "base_uri": "https://localhost:8080/"
        },
        "id": "TpisOB55p0lb",
        "outputId": "e320d2cc-ff4a-4b53-923a-0a80b67c59dd"
      },
      "execution_count": null,
      "outputs": [
        {
          "output_type": "execute_result",
          "data": {
            "text/plain": [
              "(tensor([[2, 1],\n",
              "         [3, 2]], dtype=torch.int32),\n",
              " tensor([[3, 3],\n",
              "         [1, 4]], dtype=torch.int32),\n",
              " tensor([[6, 3],\n",
              "         [3, 8]], dtype=torch.int32))"
            ]
          },
          "metadata": {},
          "execution_count": 173
        }
      ]
    },
    {
      "cell_type": "code",
      "source": [
        "vector = torch.arange(2)"
      ],
      "metadata": {
        "id": "ply4gxj9qQu2"
      },
      "execution_count": null,
      "outputs": []
    },
    {
      "cell_type": "markdown",
      "source": [
        "### Matrix multipilcation"
      ],
      "metadata": {
        "id": "xOVzrhEnsws7"
      }
    },
    {
      "cell_type": "code",
      "source": [
        "vec = torch.arange(5)\n",
        "vec_2 = torch.arange(5)\n",
        "vec, vec_2"
      ],
      "metadata": {
        "colab": {
          "base_uri": "https://localhost:8080/"
        },
        "id": "SRMZa5QpsMKY",
        "outputId": "18bb318d-4f3d-4cec-c5b8-63625e3d8341"
      },
      "execution_count": null,
      "outputs": [
        {
          "output_type": "execute_result",
          "data": {
            "text/plain": [
              "(tensor([0, 1, 2, 3, 4]), tensor([0, 1, 2, 3, 4]))"
            ]
          },
          "metadata": {},
          "execution_count": 179
        }
      ]
    },
    {
      "cell_type": "code",
      "source": [
        "%%time\n",
        "torch.matmul(vec, vec_2)"
      ],
      "metadata": {
        "colab": {
          "base_uri": "https://localhost:8080/"
        },
        "id": "XQQc-aJTtDa4",
        "outputId": "781efb06-f4c0-40a7-ade7-4dd156e357b5"
      },
      "execution_count": null,
      "outputs": [
        {
          "output_type": "stream",
          "name": "stdout",
          "text": [
            "CPU times: user 12 µs, sys: 1 ms, total: 1.02 ms\n",
            "Wall time: 1.09 ms\n"
          ]
        },
        {
          "output_type": "execute_result",
          "data": {
            "text/plain": [
              "tensor(30)"
            ]
          },
          "metadata": {},
          "execution_count": 181
        }
      ]
    },
    {
      "cell_type": "code",
      "source": [
        "vec.shape, vec_2.shape"
      ],
      "metadata": {
        "colab": {
          "base_uri": "https://localhost:8080/"
        },
        "id": "A1ShGsWctKk5",
        "outputId": "48e7a796-738b-45ef-ddac-2c97600e3ba2"
      },
      "execution_count": null,
      "outputs": [
        {
          "output_type": "execute_result",
          "data": {
            "text/plain": [
              "(torch.Size([5]), torch.Size([5]))"
            ]
          },
          "metadata": {},
          "execution_count": 182
        }
      ]
    },
    {
      "cell_type": "code",
      "source": [
        "%%time\n",
        "vec = torch.arange(39)\n",
        "vec_2 = torch.arange(39)\n",
        "torch.matmul(vec, vec_2)"
      ],
      "metadata": {
        "colab": {
          "base_uri": "https://localhost:8080/"
        },
        "id": "qrnw_53otmPs",
        "outputId": "432e28d2-37e6-44a4-f26f-553cfa8a6339"
      },
      "execution_count": null,
      "outputs": [
        {
          "output_type": "stream",
          "name": "stdout",
          "text": [
            "CPU times: user 1.26 ms, sys: 13 µs, total: 1.27 ms\n",
            "Wall time: 1.02 ms\n"
          ]
        },
        {
          "output_type": "execute_result",
          "data": {
            "text/plain": [
              "tensor(19019)"
            ]
          },
          "metadata": {},
          "execution_count": 183
        }
      ]
    },
    {
      "cell_type": "code",
      "source": [
        "%%time\n",
        "tensor_1 = torch.rand(2, 3)\n",
        "tensor_2 = torch.rand(3, 2)\n",
        "tensor_1, tensor_2, torch.matmul(tensor_1, tensor_2)"
      ],
      "metadata": {
        "colab": {
          "base_uri": "https://localhost:8080/"
        },
        "id": "umh-bdcHuCG-",
        "outputId": "1ae4e3a6-67ca-4986-d6c7-3ef4595302e3"
      },
      "execution_count": null,
      "outputs": [
        {
          "output_type": "stream",
          "name": "stdout",
          "text": [
            "CPU times: user 1.42 ms, sys: 44 µs, total: 1.46 ms\n",
            "Wall time: 18.4 ms\n"
          ]
        },
        {
          "output_type": "execute_result",
          "data": {
            "text/plain": [
              "(tensor([[0.4896, 0.4941, 0.0408],\n",
              "         [0.9320, 0.7358, 0.1328]]),\n",
              " tensor([[0.2059, 0.8870],\n",
              "         [0.7525, 0.4180],\n",
              "         [0.7579, 0.0562]]),\n",
              " tensor([[0.5036, 0.6431],\n",
              "         [0.8463, 1.1417]]))"
            ]
          },
          "metadata": {},
          "execution_count": 11
        }
      ]
    },
    {
      "cell_type": "code",
      "source": [
        "%%time\n",
        "tensor_1 = torch.tensor([[2, 3], [3, 4]])\n",
        "tensor_2 = torch.tensor([[4, 1], [2, 2]])\n",
        "tensor_1, tensor_2, torch.matmul(tensor_1, tensor_2)"
      ],
      "metadata": {
        "colab": {
          "base_uri": "https://localhost:8080/"
        },
        "id": "QL3S1SZbui3H",
        "outputId": "27e4af18-f749-4d4b-8915-c5ce7c31b94c"
      },
      "execution_count": null,
      "outputs": [
        {
          "output_type": "stream",
          "name": "stdout",
          "text": [
            "CPU times: user 1.23 ms, sys: 18 µs, total: 1.24 ms\n",
            "Wall time: 4.95 ms\n"
          ]
        },
        {
          "output_type": "execute_result",
          "data": {
            "text/plain": [
              "(tensor([[2, 3],\n",
              "         [3, 4]]),\n",
              " tensor([[4, 1],\n",
              "         [2, 2]]),\n",
              " tensor([[14,  8],\n",
              "         [20, 11]]))"
            ]
          },
          "metadata": {},
          "execution_count": 4
        }
      ]
    },
    {
      "cell_type": "code",
      "source": [
        "tensor_1.shape, tensor_2.shape"
      ],
      "metadata": {
        "colab": {
          "base_uri": "https://localhost:8080/"
        },
        "id": "vPSudNSE8j-g",
        "outputId": "42b8766e-407b-451f-d635-330ad5b7bacd"
      },
      "execution_count": null,
      "outputs": [
        {
          "output_type": "execute_result",
          "data": {
            "text/plain": [
              "(torch.Size([2, 2]), torch.Size([2, 2]))"
            ]
          },
          "metadata": {},
          "execution_count": 5
        }
      ]
    },
    {
      "cell_type": "code",
      "source": [
        "%%time\n",
        "tensor_1 = torch.rand(2, 43)\n",
        "tensor_2 = torch.rand(43, 5)\n",
        "tensor_1 @ tensor_2"
      ],
      "metadata": {
        "colab": {
          "base_uri": "https://localhost:8080/"
        },
        "id": "27PnZVnw8us6",
        "outputId": "eaddb598-9d5a-43d3-88ed-ce2de2ec9e9e"
      },
      "execution_count": null,
      "outputs": [
        {
          "output_type": "stream",
          "name": "stdout",
          "text": [
            "CPU times: user 326 µs, sys: 905 µs, total: 1.23 ms\n",
            "Wall time: 1.02 ms\n"
          ]
        },
        {
          "output_type": "execute_result",
          "data": {
            "text/plain": [
              "tensor([[12.0901, 10.8817, 10.5343, 10.7485, 10.0208],\n",
              "        [11.3665, 11.6322, 10.7962, 11.5580, 10.8697]])"
            ]
          },
          "metadata": {},
          "execution_count": 12
        }
      ]
    },
    {
      "cell_type": "code",
      "source": [
        "%%time\n",
        "tensor_1 = torch.rand(22, 3)\n",
        "tensor_2 = torch.rand(3, 22)\n",
        "product = torch.matmul(tensor_1, tensor_2)\n",
        "product"
      ],
      "metadata": {
        "colab": {
          "base_uri": "https://localhost:8080/"
        },
        "id": "7LtHRByY9iro",
        "outputId": "0da1bf32-b341-4eaf-a718-ed1295cc6b95"
      },
      "execution_count": null,
      "outputs": [
        {
          "output_type": "stream",
          "name": "stdout",
          "text": [
            "CPU times: user 181 µs, sys: 9 µs, total: 190 µs\n",
            "Wall time: 205 µs\n"
          ]
        },
        {
          "output_type": "execute_result",
          "data": {
            "text/plain": [
              "tensor([[1.1348, 0.5953, 0.9516, 0.8821, 0.7381, 0.5609, 1.2333, 0.8302, 1.0312,\n",
              "         0.7454, 0.9472, 0.3166, 1.1264, 0.3742, 0.6721, 1.1593, 0.6877, 0.4973,\n",
              "         0.5211, 0.9584, 0.8408, 0.6624],\n",
              "        [1.1156, 0.5457, 0.9267, 0.8869, 0.5987, 0.5204, 1.1363, 0.8154, 1.0756,\n",
              "         0.6093, 0.8560, 0.2370, 1.1177, 0.3861, 0.6075, 1.1018, 0.6389, 0.4856,\n",
              "         0.4102, 0.8562, 0.8492, 0.6595],\n",
              "        [0.9252, 0.5278, 0.7822, 0.5578, 0.9002, 0.4736, 1.1531, 0.5607, 0.6371,\n",
              "         0.9356, 0.9443, 0.4221, 0.8866, 0.2196, 0.7059, 0.9649, 0.6043, 0.3374,\n",
              "         0.6582, 0.9744, 0.6054, 0.5230],\n",
              "        [0.6863, 0.4815, 0.6034, 0.5129, 0.7908, 0.4396, 0.9612, 0.5379, 0.4725,\n",
              "         0.7752, 0.7782, 0.3960, 0.6551, 0.1891, 0.5413, 0.8238, 0.5290, 0.3314,\n",
              "         0.5942, 0.8154, 0.4545, 0.3773],\n",
              "        [0.9963, 0.5569, 0.8485, 0.9980, 0.4806, 0.5488, 1.0360, 0.9305, 1.0871,\n",
              "         0.4271, 0.7405, 0.1982, 1.0152, 0.4258, 0.4633, 1.0869, 0.6296, 0.5624,\n",
              "         0.3344, 0.7435, 0.8141, 0.5883],\n",
              "        [0.5991, 0.3923, 0.5253, 0.6755, 0.3536, 0.3879, 0.6849, 0.6475, 0.6655,\n",
              "         0.2919, 0.4870, 0.1648, 0.6107, 0.2785, 0.2812, 0.7244, 0.4298, 0.3962,\n",
              "         0.2582, 0.4975, 0.4978, 0.3477],\n",
              "        [0.8649, 0.5926, 0.7661, 1.0429, 0.5019, 0.5905, 1.0015, 1.0027, 0.9986,\n",
              "         0.3914, 0.7007, 0.2390, 0.8866, 0.4279, 0.3833, 1.0832, 0.6431, 0.6154,\n",
              "         0.3697, 0.7176, 0.7357, 0.5011],\n",
              "        [0.8985, 0.8020, 0.8368, 0.9730, 1.1404, 0.7577, 1.4075, 1.0308, 0.7286,\n",
              "         1.0136, 1.0939, 0.6090, 0.8695, 0.3504, 0.6616, 1.3015, 0.8436, 0.6460,\n",
              "         0.8812, 1.1634, 0.6503, 0.4803],\n",
              "        [1.2698, 0.6603, 1.0625, 0.9427, 0.8620, 0.6173, 1.3910, 0.8894, 1.1167,\n",
              "         0.8818, 1.0796, 0.3718, 1.2549, 0.3991, 0.7782, 1.2846, 0.7653, 0.5319,\n",
              "         0.6099, 1.0938, 0.9253, 0.7397],\n",
              "        [0.8119, 0.5637, 0.7219, 1.0290, 0.4329, 0.5667, 0.9292, 0.9863, 0.9784,\n",
              "         0.3158, 0.6369, 0.2060, 0.8381, 0.4235, 0.3311, 1.0319, 0.6092, 0.6057,\n",
              "         0.3188, 0.6512, 0.7077, 0.4719],\n",
              "        [0.7195, 0.8659, 0.7289, 1.0708, 1.1672, 0.8318, 1.3691, 1.1664, 0.6277,\n",
              "         0.9510, 1.0399, 0.6665, 0.6968, 0.3669, 0.5414, 1.3176, 0.8751, 0.7420,\n",
              "         0.9294, 1.1296, 0.5524, 0.3610],\n",
              "        [0.4676, 0.4524, 0.4478, 0.6866, 0.4781, 0.4460, 0.7074, 0.7022, 0.5178,\n",
              "         0.3623, 0.5076, 0.2643, 0.4724, 0.2591, 0.2494, 0.7407, 0.4667, 0.4401,\n",
              "         0.3753, 0.5401, 0.3969, 0.2541],\n",
              "        [0.8840, 0.7847, 0.8252, 1.0856, 0.9626, 0.7575, 1.3174, 1.1194, 0.8470,\n",
              "         0.8084, 0.9861, 0.5154, 0.8751, 0.4060, 0.5545, 1.2953, 0.8226, 0.6996,\n",
              "         0.7448, 1.0449, 0.6924, 0.4808],\n",
              "        [0.4217, 0.2376, 0.3584, 0.3704, 0.2685, 0.2275, 0.4661, 0.3512, 0.4072,\n",
              "         0.2578, 0.3503, 0.1181, 0.4217, 0.1553, 0.2354, 0.4542, 0.2696, 0.2121,\n",
              "         0.1915, 0.3555, 0.3232, 0.2456],\n",
              "        [0.9748, 0.7845, 0.8833, 0.8511, 1.2475, 0.7246, 1.4781, 0.9102, 0.6826,\n",
              "         1.1758, 1.1846, 0.6481, 0.9295, 0.3034, 0.7803, 1.2927, 0.8414, 0.5674,\n",
              "         0.9523, 1.2533, 0.6564, 0.5248],\n",
              "        [0.4022, 0.7035, 0.4629, 0.7886, 1.0125, 0.6741, 1.0478, 0.9063, 0.3001,\n",
              "         0.8018, 0.8045, 0.6058, 0.3758, 0.2446, 0.3830, 0.9922, 0.6875, 0.5861,\n",
              "         0.8237, 0.8944, 0.3016, 0.1729],\n",
              "        [0.4071, 0.7108, 0.4679, 0.7777, 1.0454, 0.6788, 1.0682, 0.8997, 0.2850,\n",
              "         0.8372, 0.8258, 0.6235, 0.3776, 0.2383, 0.4012, 1.0000, 0.6953, 0.5824,\n",
              "         0.8492, 0.9179, 0.2976, 0.1741],\n",
              "        [1.1267, 1.0770, 1.0738, 1.5646, 1.2210, 1.0527, 1.7243, 1.6113, 1.1737,\n",
              "         0.9660, 1.2607, 0.6700, 1.1275, 0.5851, 0.6527, 1.7577, 1.1148, 1.0101,\n",
              "         0.9552, 1.3418, 0.9255, 0.6094],\n",
              "        [1.3904, 1.1120, 1.2652, 1.5191, 1.4088, 1.0649, 1.9534, 1.5500, 1.2797,\n",
              "         1.2359, 1.4803, 0.7304, 1.3720, 0.5777, 0.8867, 1.8825, 1.1855, 0.9627,\n",
              "         1.0748, 1.5562, 1.0602, 0.7675],\n",
              "        [1.3748, 0.6719, 1.1437, 1.1725, 0.6445, 0.6505, 1.3621, 1.0710, 1.4039,\n",
              "         0.6389, 1.0023, 0.2435, 1.3892, 0.5133, 0.6909, 1.3691, 0.7847, 0.6388,\n",
              "         0.4343, 0.9971, 1.0784, 0.8175],\n",
              "        [0.7875, 0.4851, 0.6810, 0.7804, 0.5084, 0.4708, 0.8989, 0.7480, 0.8025,\n",
              "         0.4589, 0.6618, 0.2328, 0.7927, 0.3224, 0.4167, 0.9044, 0.5395, 0.4554,\n",
              "         0.3684, 0.6756, 0.6232, 0.4563],\n",
              "        [1.0742, 0.4561, 0.8743, 0.7734, 0.4863, 0.4324, 1.0144, 0.6876, 1.0317,\n",
              "         0.5297, 0.7669, 0.1668, 1.0775, 0.3496, 0.5742, 0.9770, 0.5530, 0.4029,\n",
              "         0.3168, 0.7559, 0.8118, 0.6430]])"
            ]
          },
          "metadata": {},
          "execution_count": 19
        }
      ]
    },
    {
      "cell_type": "code",
      "source": [
        "%%time\n",
        "ones_tensor = torch.ones_like(product)\n",
        "ones_tensor @ ones_tensor"
      ],
      "metadata": {
        "colab": {
          "base_uri": "https://localhost:8080/"
        },
        "id": "Fm_1Uzjj-PQE",
        "outputId": "e75b5b44-5954-44ca-e7fa-dcbc66bc3763"
      },
      "execution_count": null,
      "outputs": [
        {
          "output_type": "stream",
          "name": "stdout",
          "text": [
            "CPU times: user 181 µs, sys: 0 ns, total: 181 µs\n",
            "Wall time: 186 µs\n"
          ]
        },
        {
          "output_type": "execute_result",
          "data": {
            "text/plain": [
              "tensor([[22., 22., 22., 22., 22., 22., 22., 22., 22., 22., 22., 22., 22., 22.,\n",
              "         22., 22., 22., 22., 22., 22., 22., 22.],\n",
              "        [22., 22., 22., 22., 22., 22., 22., 22., 22., 22., 22., 22., 22., 22.,\n",
              "         22., 22., 22., 22., 22., 22., 22., 22.],\n",
              "        [22., 22., 22., 22., 22., 22., 22., 22., 22., 22., 22., 22., 22., 22.,\n",
              "         22., 22., 22., 22., 22., 22., 22., 22.],\n",
              "        [22., 22., 22., 22., 22., 22., 22., 22., 22., 22., 22., 22., 22., 22.,\n",
              "         22., 22., 22., 22., 22., 22., 22., 22.],\n",
              "        [22., 22., 22., 22., 22., 22., 22., 22., 22., 22., 22., 22., 22., 22.,\n",
              "         22., 22., 22., 22., 22., 22., 22., 22.],\n",
              "        [22., 22., 22., 22., 22., 22., 22., 22., 22., 22., 22., 22., 22., 22.,\n",
              "         22., 22., 22., 22., 22., 22., 22., 22.],\n",
              "        [22., 22., 22., 22., 22., 22., 22., 22., 22., 22., 22., 22., 22., 22.,\n",
              "         22., 22., 22., 22., 22., 22., 22., 22.],\n",
              "        [22., 22., 22., 22., 22., 22., 22., 22., 22., 22., 22., 22., 22., 22.,\n",
              "         22., 22., 22., 22., 22., 22., 22., 22.],\n",
              "        [22., 22., 22., 22., 22., 22., 22., 22., 22., 22., 22., 22., 22., 22.,\n",
              "         22., 22., 22., 22., 22., 22., 22., 22.],\n",
              "        [22., 22., 22., 22., 22., 22., 22., 22., 22., 22., 22., 22., 22., 22.,\n",
              "         22., 22., 22., 22., 22., 22., 22., 22.],\n",
              "        [22., 22., 22., 22., 22., 22., 22., 22., 22., 22., 22., 22., 22., 22.,\n",
              "         22., 22., 22., 22., 22., 22., 22., 22.],\n",
              "        [22., 22., 22., 22., 22., 22., 22., 22., 22., 22., 22., 22., 22., 22.,\n",
              "         22., 22., 22., 22., 22., 22., 22., 22.],\n",
              "        [22., 22., 22., 22., 22., 22., 22., 22., 22., 22., 22., 22., 22., 22.,\n",
              "         22., 22., 22., 22., 22., 22., 22., 22.],\n",
              "        [22., 22., 22., 22., 22., 22., 22., 22., 22., 22., 22., 22., 22., 22.,\n",
              "         22., 22., 22., 22., 22., 22., 22., 22.],\n",
              "        [22., 22., 22., 22., 22., 22., 22., 22., 22., 22., 22., 22., 22., 22.,\n",
              "         22., 22., 22., 22., 22., 22., 22., 22.],\n",
              "        [22., 22., 22., 22., 22., 22., 22., 22., 22., 22., 22., 22., 22., 22.,\n",
              "         22., 22., 22., 22., 22., 22., 22., 22.],\n",
              "        [22., 22., 22., 22., 22., 22., 22., 22., 22., 22., 22., 22., 22., 22.,\n",
              "         22., 22., 22., 22., 22., 22., 22., 22.],\n",
              "        [22., 22., 22., 22., 22., 22., 22., 22., 22., 22., 22., 22., 22., 22.,\n",
              "         22., 22., 22., 22., 22., 22., 22., 22.],\n",
              "        [22., 22., 22., 22., 22., 22., 22., 22., 22., 22., 22., 22., 22., 22.,\n",
              "         22., 22., 22., 22., 22., 22., 22., 22.],\n",
              "        [22., 22., 22., 22., 22., 22., 22., 22., 22., 22., 22., 22., 22., 22.,\n",
              "         22., 22., 22., 22., 22., 22., 22., 22.],\n",
              "        [22., 22., 22., 22., 22., 22., 22., 22., 22., 22., 22., 22., 22., 22.,\n",
              "         22., 22., 22., 22., 22., 22., 22., 22.],\n",
              "        [22., 22., 22., 22., 22., 22., 22., 22., 22., 22., 22., 22., 22., 22.,\n",
              "         22., 22., 22., 22., 22., 22., 22., 22.]])"
            ]
          },
          "metadata": {},
          "execution_count": 21
        }
      ]
    },
    {
      "cell_type": "code",
      "source": [
        "%%time\n",
        "tensor_x = torch.tensor([2, 3, 4])\n",
        "val = 0\n",
        "for i in range(len(tensor_x)):\n",
        "  val += (tensor_x[i] * tensor_x[i])\n",
        "val"
      ],
      "metadata": {
        "colab": {
          "base_uri": "https://localhost:8080/"
        },
        "id": "bn0QEPn2_JY2",
        "outputId": "b86538e3-aebf-4625-a084-2ea282c9f85b"
      },
      "execution_count": null,
      "outputs": [
        {
          "output_type": "stream",
          "name": "stdout",
          "text": [
            "CPU times: user 2.79 ms, sys: 3.45 ms, total: 6.23 ms\n",
            "Wall time: 91.7 ms\n"
          ]
        },
        {
          "output_type": "execute_result",
          "data": {
            "text/plain": [
              "tensor(29)"
            ]
          },
          "metadata": {},
          "execution_count": 4
        }
      ]
    },
    {
      "cell_type": "code",
      "source": [
        "%%time\n",
        "tensor_x * tensor_x"
      ],
      "metadata": {
        "colab": {
          "base_uri": "https://localhost:8080/"
        },
        "id": "MYm_tko-_7dC",
        "outputId": "6bb35c8b-2df4-45dd-fb2b-2cca418f16f5"
      },
      "execution_count": null,
      "outputs": [
        {
          "output_type": "stream",
          "name": "stdout",
          "text": [
            "CPU times: user 99 µs, sys: 0 ns, total: 99 µs\n",
            "Wall time: 103 µs\n"
          ]
        },
        {
          "output_type": "execute_result",
          "data": {
            "text/plain": [
              "tensor([ 4,  9, 16])"
            ]
          },
          "metadata": {},
          "execution_count": 23
        }
      ]
    },
    {
      "cell_type": "code",
      "source": [
        "%%time\n",
        "tensor_x @ tensor_x"
      ],
      "metadata": {
        "colab": {
          "base_uri": "https://localhost:8080/"
        },
        "id": "TZaLeHLdADA-",
        "outputId": "c0b9eef4-d461-48e0-d47c-dd62ffd6533a"
      },
      "execution_count": null,
      "outputs": [
        {
          "output_type": "stream",
          "name": "stdout",
          "text": [
            "CPU times: user 120 µs, sys: 7 µs, total: 127 µs\n",
            "Wall time: 130 µs\n"
          ]
        },
        {
          "output_type": "execute_result",
          "data": {
            "text/plain": [
              "tensor(29)"
            ]
          },
          "metadata": {},
          "execution_count": 24
        }
      ]
    },
    {
      "cell_type": "code",
      "source": [
        "%%time\n",
        "torch.matmul(tensor_x, tensor_x)"
      ],
      "metadata": {
        "colab": {
          "base_uri": "https://localhost:8080/"
        },
        "id": "J6X7mxVTAK3U",
        "outputId": "4c27bab8-2e97-48a8-c9ef-676673bbae4c"
      },
      "execution_count": null,
      "outputs": [
        {
          "output_type": "stream",
          "name": "stdout",
          "text": [
            "CPU times: user 76 µs, sys: 4 µs, total: 80 µs\n",
            "Wall time: 83 µs\n"
          ]
        },
        {
          "output_type": "execute_result",
          "data": {
            "text/plain": [
              "tensor(29)"
            ]
          },
          "metadata": {},
          "execution_count": 25
        }
      ]
    },
    {
      "cell_type": "code",
      "source": [
        "# simulate http://matrixmultiplication.xyz/ matrix multiplication\n",
        "\n",
        "mat_1 = torch.tensor([[5, 2],\n",
        "                      [0, 4],\n",
        "                      [22, 3]])\n",
        "mat_2 = torch.tensor([2, 6])\n",
        "mat_1, mat_2"
      ],
      "metadata": {
        "colab": {
          "base_uri": "https://localhost:8080/"
        },
        "id": "NEces0v2AojP",
        "outputId": "23655d64-ecf9-4deb-9302-c9fb77f8e1bc"
      },
      "execution_count": null,
      "outputs": [
        {
          "output_type": "execute_result",
          "data": {
            "text/plain": [
              "(tensor([[ 5,  2],\n",
              "         [ 0,  4],\n",
              "         [22,  3]]),\n",
              " tensor([2, 6]))"
            ]
          },
          "metadata": {},
          "execution_count": 6
        }
      ]
    },
    {
      "cell_type": "code",
      "source": [
        "torch.mul(mat_1, mat_2)"
      ],
      "metadata": {
        "colab": {
          "base_uri": "https://localhost:8080/"
        },
        "id": "8nCxXM9qD3cz",
        "outputId": "f6d8d922-73a3-4794-bb0c-6eb788a2eb6c"
      },
      "execution_count": null,
      "outputs": [
        {
          "output_type": "execute_result",
          "data": {
            "text/plain": [
              "tensor([[10, 12],\n",
              "        [ 0, 24],\n",
              "        [44, 18]])"
            ]
          },
          "metadata": {},
          "execution_count": 7
        }
      ]
    },
    {
      "cell_type": "code",
      "source": [
        "mat_1.shape, mat_2.shape"
      ],
      "metadata": {
        "colab": {
          "base_uri": "https://localhost:8080/"
        },
        "id": "-eBdxc7LD_Q5",
        "outputId": "8779cdac-c4ff-419b-9d26-bab90ec5d94d"
      },
      "execution_count": null,
      "outputs": [
        {
          "output_type": "execute_result",
          "data": {
            "text/plain": [
              "(torch.Size([3, 2]), torch.Size([2]))"
            ]
          },
          "metadata": {},
          "execution_count": 8
        }
      ]
    },
    {
      "cell_type": "code",
      "source": [
        "torch.matmul(mat_1, mat_2)"
      ],
      "metadata": {
        "colab": {
          "base_uri": "https://localhost:8080/"
        },
        "id": "Y5TFSaR6EHJ0",
        "outputId": "82bd3591-c039-4815-96cd-8706a93892c3"
      },
      "execution_count": null,
      "outputs": [
        {
          "output_type": "execute_result",
          "data": {
            "text/plain": [
              "tensor([22, 24, 62])"
            ]
          },
          "metadata": {},
          "execution_count": 9
        }
      ]
    },
    {
      "cell_type": "markdown",
      "source": [
        " let's mask a bit"
      ],
      "metadata": {
        "id": "1uVEYN4DEgLM"
      }
    },
    {
      "cell_type": "code",
      "source": [
        "tensor = torch.rand(3, 3)\n",
        "tensor"
      ],
      "metadata": {
        "colab": {
          "base_uri": "https://localhost:8080/"
        },
        "id": "9Le-DnM4EfTy",
        "outputId": "f11d2dc3-51df-4500-e0e5-92b2e496517b"
      },
      "execution_count": null,
      "outputs": [
        {
          "output_type": "execute_result",
          "data": {
            "text/plain": [
              "tensor([[0.5158, 0.4150, 0.9689],\n",
              "        [0.5845, 0.7943, 0.5193],\n",
              "        [0.7568, 0.7836, 0.8469]])"
            ]
          },
          "metadata": {},
          "execution_count": 12
        }
      ]
    },
    {
      "cell_type": "code",
      "source": [
        "zeros = torch.zeros_like(tensor[2])\n",
        "zeros"
      ],
      "metadata": {
        "colab": {
          "base_uri": "https://localhost:8080/"
        },
        "id": "JEsE5yVDEsgW",
        "outputId": "5073b431-e27a-48f7-8a67-b6ed90c6312d"
      },
      "execution_count": null,
      "outputs": [
        {
          "output_type": "execute_result",
          "data": {
            "text/plain": [
              "tensor([0., 0., 0.])"
            ]
          },
          "metadata": {},
          "execution_count": 13
        }
      ]
    },
    {
      "cell_type": "code",
      "source": [
        "tensor * zeros"
      ],
      "metadata": {
        "colab": {
          "base_uri": "https://localhost:8080/"
        },
        "id": "vwAfHgJvE0-K",
        "outputId": "bf1001c7-75fd-40ab-f3ce-ae7c79510b5a"
      },
      "execution_count": null,
      "outputs": [
        {
          "output_type": "execute_result",
          "data": {
            "text/plain": [
              "tensor([[0., 0., 0.],\n",
              "        [0., 0., 0.],\n",
              "        [0., 0., 0.]])"
            ]
          },
          "metadata": {},
          "execution_count": 14
        }
      ]
    },
    {
      "cell_type": "code",
      "source": [
        "copy_tensor = tensor\n",
        "copy_tensor[2] = zeros\n",
        "copy_tensor"
      ],
      "metadata": {
        "id": "wvh8duAfE79V",
        "colab": {
          "base_uri": "https://localhost:8080/"
        },
        "outputId": "68284689-4622-41e6-d6ca-c0e3df4cbcee"
      },
      "execution_count": null,
      "outputs": [
        {
          "output_type": "execute_result",
          "data": {
            "text/plain": [
              "tensor([[0.5158, 0.4150, 0.9689],\n",
              "        [0.5845, 0.7943, 0.5193],\n",
              "        [0.0000, 0.0000, 0.0000]])"
            ]
          },
          "metadata": {},
          "execution_count": 15
        }
      ]
    },
    {
      "cell_type": "code",
      "source": [
        "tensor = torch.rand(2, 3)\n",
        "tensor_1 = torch.rand(2, 3)\n",
        "tensor, tensor_1"
      ],
      "metadata": {
        "colab": {
          "base_uri": "https://localhost:8080/"
        },
        "id": "j6te3GXj3wP3",
        "outputId": "dfbf7f05-05cb-4bb1-d2e3-ec7aecc61510"
      },
      "execution_count": null,
      "outputs": [
        {
          "output_type": "execute_result",
          "data": {
            "text/plain": [
              "(tensor([[0.6983, 0.4093, 0.7767],\n",
              "         [0.2243, 0.0609, 0.5830]]),\n",
              " tensor([[0.2311, 0.7938, 0.5845],\n",
              "         [0.7653, 0.0574, 0.3778]]))"
            ]
          },
          "metadata": {},
          "execution_count": 3
        }
      ]
    },
    {
      "cell_type": "code",
      "source": [
        "print(f\" tensor : \\n {tensor} shape: {tensor.shape} and tensor_1: \\n {tensor_1} shape: {tensor_1.shape}\")\n",
        "print(\"transposing tensor_2 .....\")\n",
        "tensor_2 = tensor_1.T\n",
        "print(\"Transposed tensor: \\n\", tensor_2)\n",
        "print(f\" tensor : \\n {tensor} shape: {tensor.shape} and tensor_2: \\n {tensor_2}shape: {tensor_2.shape}\")\n",
        "print(\"Multiplying tensor and tensor_2......\")\n",
        "print(\"tensor @ tensor_2 = \" + \"\\n\", tensor @ tensor_2)"
      ],
      "metadata": {
        "colab": {
          "base_uri": "https://localhost:8080/"
        },
        "id": "Z9rB_eLY4FM6",
        "outputId": "abba39a5-74a9-4409-8433-6c17dfc3d87a"
      },
      "execution_count": null,
      "outputs": [
        {
          "output_type": "stream",
          "name": "stdout",
          "text": [
            " tensor : \n",
            " tensor([[0.6983, 0.4093, 0.7767],\n",
            "        [0.2243, 0.0609, 0.5830]]) shape: torch.Size([2, 3]) and tensor_1: \n",
            " tensor([[0.2311, 0.7938, 0.5845],\n",
            "        [0.7653, 0.0574, 0.3778]]) shape: torch.Size([2, 3])\n",
            "transposing tensor_2 .....\n",
            "Transposed tensor: \n",
            " tensor([[0.2311, 0.7653],\n",
            "        [0.7938, 0.0574],\n",
            "        [0.5845, 0.3778]])\n",
            " tensor : \n",
            " tensor([[0.6983, 0.4093, 0.7767],\n",
            "        [0.2243, 0.0609, 0.5830]]) shape: torch.Size([2, 3]) and tensor_2: \n",
            " tensor([[0.2311, 0.7653],\n",
            "        [0.7938, 0.0574],\n",
            "        [0.5845, 0.3778]])shape: torch.Size([3, 2])\n",
            "Multiplying tensor and tensor_2......\n",
            "tensor @ tensor_2 = \n",
            " tensor([[0.9403, 0.8513],\n",
            "        [0.4410, 0.3955]])\n"
          ]
        }
      ]
    },
    {
      "cell_type": "code",
      "source": [
        "tensor_1 = torch.rand(1, 3, 3)\n",
        "tensor_2 = torch.rand(1, 3, 3)\n",
        "print(tensor_1, tensor_2)\n",
        "print(tensor_1.shape, tensor_2.shape)\n",
        "print(tensor_1 @ tensor_2)"
      ],
      "metadata": {
        "id": "lAWJXExz4SPA",
        "colab": {
          "base_uri": "https://localhost:8080/"
        },
        "outputId": "b59fdc29-aadf-4016-eeb6-54d3a9fe45ce"
      },
      "execution_count": null,
      "outputs": [
        {
          "output_type": "stream",
          "name": "stdout",
          "text": [
            "tensor([[[0.8145, 0.0438, 0.7003],\n",
            "         [0.4157, 0.1458, 0.1823],\n",
            "         [0.0063, 0.2778, 0.5862]]]) tensor([[[0.1024, 0.5488, 0.9975],\n",
            "         [0.8329, 0.7298, 0.1655],\n",
            "         [0.8929, 0.7273, 0.4768]]])\n",
            "torch.Size([1, 3, 3]) torch.Size([1, 3, 3])\n",
            "tensor([[[0.7452, 0.9883, 1.1536],\n",
            "         [0.3268, 0.4671, 0.5257],\n",
            "         [0.7554, 0.6325, 0.3318]]])\n"
          ]
        }
      ]
    },
    {
      "cell_type": "code",
      "source": [
        "tensor_2 = tensor_2.T\n",
        "print(tensor_2, tensor_2.shape)\n",
        "print(torch.matmul(tensor_1, tensor_2))"
      ],
      "metadata": {
        "colab": {
          "base_uri": "https://localhost:8080/",
          "height": 349
        },
        "id": "lLwFTGKo3k1Q",
        "outputId": "836876c0-943d-4caa-f4f1-d69c172882f5"
      },
      "execution_count": null,
      "outputs": [
        {
          "output_type": "stream",
          "name": "stdout",
          "text": [
            "tensor([[[0.8258],\n",
            "         [0.9785]],\n",
            "\n",
            "        [[0.4688],\n",
            "         [0.4676]],\n",
            "\n",
            "        [[0.6265],\n",
            "         [0.4578]]]) torch.Size([3, 2, 1])\n"
          ]
        },
        {
          "output_type": "error",
          "ename": "RuntimeError",
          "evalue": "ignored",
          "traceback": [
            "\u001b[0;31m---------------------------------------------------------------------------\u001b[0m",
            "\u001b[0;31mRuntimeError\u001b[0m                              Traceback (most recent call last)",
            "\u001b[0;32m<ipython-input-13-fb947f3da7f7>\u001b[0m in \u001b[0;36m<cell line: 3>\u001b[0;34m()\u001b[0m\n\u001b[1;32m      1\u001b[0m \u001b[0mtensor_2\u001b[0m \u001b[0;34m=\u001b[0m \u001b[0mtensor_2\u001b[0m\u001b[0;34m.\u001b[0m\u001b[0mT\u001b[0m\u001b[0;34m\u001b[0m\u001b[0;34m\u001b[0m\u001b[0m\n\u001b[1;32m      2\u001b[0m \u001b[0mprint\u001b[0m\u001b[0;34m(\u001b[0m\u001b[0mtensor_2\u001b[0m\u001b[0;34m,\u001b[0m \u001b[0mtensor_2\u001b[0m\u001b[0;34m.\u001b[0m\u001b[0mshape\u001b[0m\u001b[0;34m)\u001b[0m\u001b[0;34m\u001b[0m\u001b[0;34m\u001b[0m\u001b[0m\n\u001b[0;32m----> 3\u001b[0;31m \u001b[0mprint\u001b[0m\u001b[0;34m(\u001b[0m\u001b[0mtorch\u001b[0m\u001b[0;34m.\u001b[0m\u001b[0mmatmul\u001b[0m\u001b[0;34m(\u001b[0m\u001b[0mtensor_1\u001b[0m\u001b[0;34m,\u001b[0m \u001b[0mtensor_2\u001b[0m\u001b[0;34m)\u001b[0m\u001b[0;34m)\u001b[0m\u001b[0;34m\u001b[0m\u001b[0;34m\u001b[0m\u001b[0m\n\u001b[0m",
            "\u001b[0;31mRuntimeError\u001b[0m: Expected size for first two dimensions of batch2 tensor to be: [3, 3] but got: [3, 2]."
          ]
        }
      ]
    },
    {
      "cell_type": "code",
      "source": [
        "tbt_matrix = torch.rand(3, 3)\n",
        "tbt_matrix_2 = torch.rand(size=(3, 3))\n",
        "tbt_matrix, tbt_matrix_2"
      ],
      "metadata": {
        "colab": {
          "base_uri": "https://localhost:8080/"
        },
        "id": "VRikFEkP3pir",
        "outputId": "c168e2f7-77ed-4eed-bec2-e379429c9c9b"
      },
      "execution_count": null,
      "outputs": [
        {
          "output_type": "execute_result",
          "data": {
            "text/plain": [
              "(tensor([[0.6167, 0.9229, 0.3776],\n",
              "         [0.8804, 0.7708, 0.5336],\n",
              "         [0.4101, 0.2936, 0.3587]]),\n",
              " tensor([[0.7455, 0.8445, 0.9197],\n",
              "         [0.3432, 0.6115, 0.9003],\n",
              "         [0.0791, 0.9869, 0.7091]]))"
            ]
          },
          "metadata": {},
          "execution_count": 17
        }
      ]
    },
    {
      "cell_type": "code",
      "source": [
        "torch.mm(tbt_matrix, tbt_matrix_2)"
      ],
      "metadata": {
        "colab": {
          "base_uri": "https://localhost:8080/"
        },
        "id": "cEUd_MZf8AhS",
        "outputId": "831edba1-bb53-4a8a-d33a-5addcf982d0a"
      },
      "execution_count": null,
      "outputs": [
        {
          "output_type": "execute_result",
          "data": {
            "text/plain": [
              "tensor([[0.8064, 1.4578, 1.6659],\n",
              "        [0.9631, 1.7414, 1.8821],\n",
              "        [0.4349, 0.8799, 0.8959]])"
            ]
          },
          "metadata": {},
          "execution_count": 18
        }
      ]
    },
    {
      "cell_type": "code",
      "source": [
        "# def multiply_matrices(matrix_1, matrix_2):\n",
        "#   matrix_1_shape = matrix_1.shape\n",
        "#   matrix_2_shape = matrix_2.shape\n",
        "\n",
        "#   if matrix_1.shape[-1] != matrix_2.shape[0]:\n",
        "\n",
        "#     transpose_mat_2 = matrix_2.T\n",
        "#     transpose_mat_1 = matrix_2.T\n",
        "\n",
        "#   if matrix_1.shape[-1] == transpose_mat_2.shape[0]:\n",
        "#     pass\n",
        "\n",
        "#   if transpose_mat_1.shape[-1] == matrix_2.shape[0]:\n",
        "#     pass\n",
        "\n",
        "#   if transpose_mat_1.shape[-1] == transpose_mat_2.shape[0]:\n",
        "#     pass\n",
        "\n",
        "  # fill the empty matrix shape with ones"
      ],
      "metadata": {
        "id": "DYlC6MsY8F38"
      },
      "execution_count": null,
      "outputs": []
    },
    {
      "cell_type": "code",
      "source": [
        "tensor_1 = torch.rand(2, 3)\n",
        "tensor_2 = torch.rand(3, 4)\n",
        "tensor_2.T.shape"
      ],
      "metadata": {
        "colab": {
          "base_uri": "https://localhost:8080/"
        },
        "id": "wRptmxoL8nae",
        "outputId": "443807c3-e9dd-4171-d430-9cd49f301141"
      },
      "execution_count": null,
      "outputs": [
        {
          "output_type": "execute_result",
          "data": {
            "text/plain": [
              "torch.Size([4, 3])"
            ]
          },
          "metadata": {},
          "execution_count": 28
        }
      ]
    },
    {
      "cell_type": "code",
      "source": [
        "t = torch.tensor([2, 4, 5, 6])\n",
        "t"
      ],
      "metadata": {
        "colab": {
          "base_uri": "https://localhost:8080/"
        },
        "id": "ECpWN-LD8q1Z",
        "outputId": "5023f931-b41c-4723-d957-e80419bb1ac4"
      },
      "execution_count": null,
      "outputs": [
        {
          "output_type": "execute_result",
          "data": {
            "text/plain": [
              "tensor([2, 4, 5, 6])"
            ]
          },
          "metadata": {},
          "execution_count": 29
        }
      ]
    },
    {
      "cell_type": "code",
      "source": [],
      "metadata": {
        "id": "ZlC9svRcEV4G"
      },
      "execution_count": null,
      "outputs": []
    }
  ]
}